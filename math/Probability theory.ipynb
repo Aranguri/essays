{
 "cells": [
  {
   "cell_type": "code",
   "execution_count": 3,
   "metadata": {},
   "outputs": [],
   "source": [
    "import numpy as np\n",
    "import matplotlib.pyplot as plt\n",
    "from pprint import pprint\n",
    "\n",
    "def pdf(f, start=-2, stop=2):\n",
    "    points = np.arange(start, stop, .01)\n",
    "    plt.scatter(points, f(points), s=3)"
   ]
  },
  {
   "cell_type": "markdown",
   "metadata": {},
   "source": [
    "## Elements of probability\n",
    "* $\\Omega:$ all possible events\n",
    "* $F:$ some subsets of $\\Omega$ (we decide which subsets) \n",
    "* $P: F \\to [0, 1]$"
   ]
  },
  {
   "cell_type": "markdown",
   "metadata": {},
   "source": [
    "## Random variable\n",
    "In the definition from above, we have probabilities of events. We aren't that interested in every specific event, but in all the events of one type. We are interested in whether the events pass one test or not. This is even more important if we consider continuous values, where every particular event has zero probability of happening."
   ]
  },
  {
   "cell_type": "markdown",
   "metadata": {},
   "source": [
    "## Discrete distributions\n",
    "### Examples\n",
    "#### Bernoulli\n",
    "$P(x; \\phi) = \\phi^x (1 - \\phi)^{(1 - x)}$\n",
    "#### Multinomial\n",
    "A distribution over k objects where each one can get values from 0 to n.\n",
    "#### Multinoulli\n",
    "A special case of a multinomial with n = 1. It's parametrized by a vector $P \\in [0, 1]^{(k-1)}$ where p_i determines the probability of object i, and $1 - 1^TP$ determines the probability of object k. (We need $1^TP \\leq 0$)"
   ]
  },
  {
   "cell_type": "markdown",
   "metadata": {},
   "source": [
    "## Continuous distributions\n",
    "### PDF (probability density function)\n",
    "When a random variable can take any real value, we can't measure the probabilities by individual events. The probability of a bus arriving at 2:15 exactly is 0. We are interested in measuring the probability density $f(x)$ instead. That is, we want $f$ to measure probability/unit of X. In this way,\n",
    "\n",
    "$$\n",
    "P(a \\leq X \\leq b) = \\int_a^b f(x) dx\n",
    "$$\n",
    "\n",
    "Note that $f(x)$ doesn't represent probabilities. Evaluating $f$ at some particular value won't tell us the probability of that particular value happening (the probability of that particular value taking place is 0.) Also, $f$ could give values greater than 1. The way to see the values of $f$ is to compare them to other PDFs or taking its integral.\n",
    "\n",
    "### CDF (cumulative distribution function)\n",
    "The CDF tells us how much probability we accumulated so far. It's useful if we want to know how much probable is for a value to take place if we move dx to the right.\n",
    "$$\n",
    "F_X(b) = P(X \\leq b) = \\int_{-\\infty}^b f(x)dx\n",
    "$$"
   ]
  },
  {
   "cell_type": "markdown",
   "metadata": {},
   "source": [
    "## Expectaction\n",
    "Expectation is the average value of a random variable. For a variable that takes discrete values,\n",
    "$$E[X] = \\sum_ix_i \\cdot p(x_i)$$\n",
    "\n",
    "For a variable that takes continuous values, \n",
    "$$E[X] = \\int_{-\\infty}^{\\infty} x \\cdot p(x) dx$$\n",
    "\n",
    "Some properties\n",
    "$$\n",
    "E[E[\\cdot]] = E[\\cdot] \\\\\n",
    "E[X + Y] = E[X] + E[Y]\n",
    "$$\n",
    "\n",
    "Formal proof:\n",
    "$$\n",
    "\\begin{align}\n",
    "E[X + Y] &= \\sum_i (x + y)_i P((x + y)_i) \\\\\n",
    "&= \\sum_{i, j} (x_i + y_j) P(x_i, y_j) \\\\\n",
    "&= \\sum_i \\sum_j x_i P(x_i, y_j) + y_j P(x_i, y_j) \\\\\n",
    "&= \\sum_i \\sum_j x_i P(x_i, y_j) + \\sum_i \\sum_j y_j P(x_i, y_j) \\\\\n",
    "&= \\sum_i x_i P(x_i) + \\sum_j y_j P(y_j) \\\\\n",
    "&= E[X] + E[Y]\n",
    "\\end{align}\n",
    "$$\n",
    "\n",
    "Intiution: say we are calculating the expectaction numerically. So, at time=0, someone tells us the value of $x_0$ and $y_0,$ and we add $(x_0 + y_0)$ to our list. We repeat this process $n$ times. Now, to get the expected value of $E[X + Y]$ we calculate the average of all the elements in our list. Thus,\n",
    "\n",
    "$$E[X + Y] \\approx \\frac{(x_0 + y_0) + (x_1 + y_1) + ... + (x_{n-1} + y_{n-1})}{n}$$\n",
    "\n",
    "Let's reorganize the elements\n",
    "$$\n",
    "\\frac{(x_0 + y_0) + (x_1 + y_1) + ... + (x_{n-1} + y_{n-1})}{n} = \\frac{(x_0 + x_1 + ... + x_{n-1}) + (y_0 + y_1 + ... + y_{n-1})}{n} \\\\\n",
    "= \\frac{(x_0 + x_1 + ... + x_{n-1})}{n} + \\frac{(y_0 + y_1 + ... + y_{n-1})}{n} \\\\\n",
    "\\approx E[X] + E[Y]\n",
    "$$\n",
    "(In the limit, we have an equal instead of a $\\approx.$)\n",
    "\n",
    "$$\n",
    "E[af(x) + bg(x)] = \\sum_x P(x)(af(x) + bg(x)) \\\\\n",
    "= \\sum_x P(x) a f(x) + \\sum_x P(x) b g(x) \\\\\n",
    "= a \\sum_x P(x) f(x) + b \\sum_x P(x) g(x) \\\\\n",
    "= a E[f(x)] + b E[g(x)] \\\\\n",
    "$$\n",
    "\n",
    "$$\n",
    "E_{X, Y ~ P}[f(x)g(y)] = ... = E_X[f(x)]E_Y[g(y)]\n",
    "$$"
   ]
  },
  {
   "cell_type": "markdown",
   "metadata": {},
   "source": [
    "## Variance and standard deviation\n",
    "Say we are soccer players, and we are focused on scoring penalties. The mean position of the penalty isn't enough to characterize the shots, because I can have a mean in the center of the goal, but I'm always shoting on the sides. So, besides having a good mean (ie a mean near the center of the goal) I want to have a small variance (ie how much I deviate from the mean.)\n",
    "\n",
    "[TODO: insert another example]\n",
    "\n",
    "Specifically, we are trying to know the average of the distances between every element of a set and their average.\n",
    "\n",
    "### Variance\n",
    "The variance tells us the expectation of the squared distance between an instance of a random variable and the average of that random variable. We can picture each possible value of a 1D random variable as a point in the line of real numbers, then the average of the distances between each points and the mean of the random variable is the variance. \n",
    "\n",
    "$$\n",
    "Var(X) = E[(X - E[X]) ^ 2]\n",
    "$$\n",
    "\n",
    "#### Properties\n",
    "$$\n",
    "\\begin{align}\n",
    "E[Var(X)] &= E[E[(X - E[X]) ^ 2]] \\\\\n",
    "E[Var(X)] &= E[(X - E[X]) ^ 2] \\\\\n",
    "E[Var(X)] &= Var(X) \\\\\n",
    "\\\\\n",
    "Var(X) &= E[(X - E[X])^2] \\\\\n",
    "&= E[X^2 - 2E[X]X + E[X]^2] \\\\\n",
    "&= E[X^2] - 2E[X]E[X] + E[X]^2 \\\\\n",
    "&= E[X^2] - E[X] ^ 2 \\\\\n",
    "\\\\\n",
    "Var(XY) &= E[X^2Y^2] - E[XY]^2 \\tag {X, Y being independent and having zero mean}\\\\\n",
    "Var(XY) &= E[X^2Y^2] - E[X]^2E[Y]^2 \\\\\n",
    "Var(XY) &= E[X^2]E[Y^2] \\\\\n",
    "Var(XY) &= Var(X)Var(Y) \\\\\n",
    "\\\\\n",
    "Var(aX) &= \\{TODO: do\\} \\\\\n",
    "\\end{align}\n",
    "$$"
   ]
  },
  {
   "cell_type": "markdown",
   "metadata": {},
   "source": [
    "### Standard deviation\n",
    "We are squaring the distance between the average and each instance of a variable so as to have always-positive values. We take the square root to make that measure comparable to the distance and not the distance squared.\n",
    "$$\n",
    "sd(X) = \\sqrt{variance(X)} = \\sqrt{E[(X - E[X]) ^ 2]}\n",
    "$$\n",
    "\n",
    "What's the difference between the two following terms?\n",
    "\n",
    "$$E[abs(x - E[x])] \\verb| and | \\sqrt{[E[(x - E[x])^2]]}$$\n",
    "$$E[abs(x - E[x])]^2 \\verb| and | [E[(x - E[x])^2]]$$\n",
    "\n",
    "The difference is that the square of the average of a set of numbers is different from the average of the square of the set of numbers."
   ]
  },
  {
   "cell_type": "code",
   "execution_count": 7,
   "metadata": {
    "scrolled": true
   },
   "outputs": [
    {
     "name": "stdout",
     "output_type": "stream",
     "text": [
      "9.0 10.0\n"
     ]
    }
   ],
   "source": [
    "values = [2, 4]\n",
    "sqrt_avg = np.square(np.average(values)) \n",
    "avg_sqrt = np.average(np.square(values))\n",
    "print (sqrt_avg, avg_sqrt)"
   ]
  },
  {
   "cell_type": "markdown",
   "metadata": {},
   "source": [
    "### Gaussian distribution\n",
    "Let's build it step by step. First, consider the curve $e^x$ and $e^{-x}$"
   ]
  },
  {
   "cell_type": "code",
   "execution_count": 20,
   "metadata": {
    "scrolled": false
   },
   "outputs": [
    {
     "data": {
      "image/png": "[encoded data removed]",
      "text/plain": [
       "<matplotlib.figure.Figure at 0x7fcd7de69c88>"
      ]
     },
     "metadata": {},
     "output_type": "display_data"
    }
   ],
   "source": [
    "pdf(lambda x: np.exp(x))\n",
    "pdf(lambda x: np.exp(-x))"
   ]
  },
  {
   "cell_type": "markdown",
   "metadata": {},
   "source": [
    "{something.} Then, we can define the following function\n",
    "$$\\left\\{x>0:\\ e^{-x},\\ x<0:e^x\\right\\}$$"
   ]
  },
  {
   "cell_type": "code",
   "execution_count": 23,
   "metadata": {},
   "outputs": [
    {
     "data": {
      "image/png": "[encoded data removed]",
      "text/plain": [
       "<matplotlib.figure.Figure at 0x7fcd7dab1b00>"
      ]
     },
     "metadata": {},
     "output_type": "display_data"
    }
   ],
   "source": [
    "pdf(lambda x: np.exp(-1 * np.sign(x) * x))"
   ]
  },
  {
   "cell_type": "markdown",
   "metadata": {},
   "source": [
    "To avoid calculating the sign and to make the function smooth, we square the function. (Notice the sign disappears because both 1 and -1 squared are 1.)"
   ]
  },
  {
   "cell_type": "code",
   "execution_count": 24,
   "metadata": {
    "scrolled": true
   },
   "outputs": [
    {
     "data": {
      "image/png": "[encoded data removed]",
      "text/plain": [
       "<matplotlib.figure.Figure at 0x7fcd7dab6710>"
      ]
     },
     "metadata": {},
     "output_type": "display_data"
    }
   ],
   "source": [
    "pdf(lambda x: np.exp(- x ** 2))"
   ]
  },
  {
   "cell_type": "markdown",
   "metadata": {},
   "source": [
    "Now, we don't like to be limited to have the distribution centered at 0. So we can add a parameter to move the distribution to the sides.\n",
    "### $$ N(x) = e^{-(x-\\mu)^2}$$\n",
    "Notice we enlarged the range in the figures below."
   ]
  },
  {
   "cell_type": "code",
   "execution_count": 42,
   "metadata": {},
   "outputs": [
    {
     "data": {
      "image/png": "[encoded data removed]",
      "text/plain": [
       "<matplotlib.figure.Figure at 0x7fcd7de2f3c8>"
      ]
     },
     "metadata": {},
     "output_type": "display_data"
    }
   ],
   "source": [
    "for mean in [-1, 0, 1]:\n",
    "    pdf(lambda x: np.exp(-(x - mean) ** 2), start=-3, stop=3)"
   ]
  },
  {
   "cell_type": "markdown",
   "metadata": {},
   "source": [
    "Remember this was a probability distribution, so we need the whole probability distribution to integrate to 1.\n",
    "\n",
    "$$\n",
    "\\int^\\infty_{-\\infty}N(x) dx = \\int^\\infty_{-\\infty}e^{-(x-\\mu)^2} dx\n",
    "= \\int^\\infty_{-\\infty}e^{-x^2} dx \n",
    "$$\n",
    "\n",
    "The last equation is the [gaussian integral](https://en.wikipedia.org/wiki/Gaussian_integral), and we know that it integrates to $\\sqrt\\pi.$ Thus, we update $N(x;\\mu)$ to \n",
    "\n",
    "$$N(x;\\mu) = \\frac{1}{\\sqrt\\pi} e^{-(x - \\mu)^2}$$\n",
    "\n",
    "Notice how the peak is now on .5 instead of being on 1."
   ]
  },
  {
   "cell_type": "code",
   "execution_count": 38,
   "metadata": {
    "scrolled": false
   },
   "outputs": [
    {
     "data": {
      "image/png": "[encoded data removed]",
      "text/plain": [
       "<matplotlib.figure.Figure at 0x7fcd7df010f0>"
      ]
     },
     "metadata": {},
     "output_type": "display_data"
    }
   ],
   "source": [
    "mean = 0\n",
    "pdf(lambda x: (1 / np.sqrt(np.pi)) * np.exp(-(x - mean) ** 2))"
   ]
  },
  {
   "cell_type": "markdown",
   "metadata": {},
   "source": [
    "It would be desirable to have variance 1. But if we calculate the variance of the actual formula, we get 1/2.\n",
    "{Explain the position of the two}\n",
    "Thus, we update it to have variance 1\n",
    "\n",
    "### $$N(x;\\mu) = \\frac{1}{\\sqrt{2\\pi}} e^{-\\frac{(x - \\mu)^2}{2}}$$"
   ]
  },
  {
   "cell_type": "markdown",
   "metadata": {},
   "source": [
    "The last step is to make it possible to parametrize the variance as we do with the mean. Notice is the same as we did in the previous step. Say we want to increase the variance by $\\sigma^2.$ Then, we divide $(x - \\mu)^2$ by $\\sigma^2$ and we divide the whole expression by the square root of $\\sigma^2.$\n",
    "\n",
    "{todo: https://stats.stackexchange.com/questions/3734/what-intuitive-explanation-is-there-for-the-central-limit-theorem}"
   ]
  },
  {
   "cell_type": "markdown",
   "metadata": {},
   "source": [
    "### $$N\\left(x; \\mu, \\sigma^2\\right)=\\frac{1}{\\sqrt{2\\pi\\sigma^2}}e^{-\\frac{\\left(x-\\mu\\right)^2}{2\\sigma^2}}$$"
   ]
  },
  {
   "cell_type": "markdown",
   "metadata": {},
   "source": [
    "Why is there a determinant in the multivariate case?"
   ]
  },
  {
   "cell_type": "code",
   "execution_count": 46,
   "metadata": {},
   "outputs": [
    {
     "data": {
      "image/png": "[encoded data removed]",
      "text/plain": [
       "<matplotlib.figure.Figure at 0x7fcd7db49cf8>"
      ]
     },
     "metadata": {},
     "output_type": "display_data"
    }
   ],
   "source": [
    "mean = 0\n",
    "variances = [.5, 1, 2]\n",
    "for v in variances:\n",
    "    pdf(lambda x: (1 / np.sqrt(2*np.pi*v)) * np.exp((-(x - mean) ** 2)/(2 * v)), start=-5, stop=5)"
   ]
  },
  {
   "cell_type": "markdown",
   "metadata": {},
   "source": [
    "### Exponential distribution\n",
    "Imagine there is a constant probability of a book falling from the bookshelf every time I leave my computer in the desk. We know that the more times I leave my computer, the higher the chance of a book falling. But how much does it increase? Assume there is a .2 chance of the book falling given that I leave my computer.\n",
    "\n",
    "(Similarly, you can imagine that you are in a train station. In the station, at every minute there is a constant probabiliy (.2) of a train coming.)"
   ]
  },
  {
   "cell_type": "code",
   "execution_count": 54,
   "metadata": {},
   "outputs": [
    {
     "data": {
      "text/plain": [
       "<matplotlib.collections.PathCollection at 0x7f2ff635c0f0>"
      ]
     },
     "execution_count": 54,
     "metadata": {},
     "output_type": "execute_result"
    },
    {
     "data": {
      "image/png": "[encoded data removed]",
      "text/plain": [
       "<matplotlib.figure.Figure at 0x7f2ff5ecd358>"
      ]
     },
     "metadata": {},
     "output_type": "display_data"
    }
   ],
   "source": [
    "prob = .2\n",
    "chances = [0]\n",
    "\n",
    "for i in range(30):\n",
    "    remaining = 1 - chances[i]\n",
    "    chances.append(remaining * prob + chances[i])\n",
    "\n",
    "plt.scatter(np.arange(len(chances)), chances)"
   ]
  },
  {
   "cell_type": "markdown",
   "metadata": {},
   "source": [
    "Why is it called the \"exponential distribution\" if the plot seems more like logarithmic? Above we consider the probability of at least one book falling. What if we consider the probability of no books falling?"
   ]
  },
  {
   "cell_type": "code",
   "execution_count": 55,
   "metadata": {},
   "outputs": [
    {
     "data": {
      "text/plain": [
       "<matplotlib.collections.PathCollection at 0x7f2ff5f79b38>"
      ]
     },
     "execution_count": 55,
     "metadata": {},
     "output_type": "execute_result"
    },
    {
     "data": {
      "image/png": "[encoded data removed]",
      "text/plain": [
       "<matplotlib.figure.Figure at 0x7f2ff63aafd0>"
      ]
     },
     "metadata": {},
     "output_type": "display_data"
    }
   ],
   "source": [
    "plt.scatter(np.arange(len(chances)), (1 - np.array(chances)))"
   ]
  },
  {
   "cell_type": "markdown",
   "metadata": {},
   "source": [
    "We can get the same result in a continuous version."
   ]
  },
  {
   "cell_type": "code",
   "execution_count": 16,
   "metadata": {},
   "outputs": [
    {
     "data": {
      "image/png": "[encoded data removed]",
      "text/plain": [
       "<matplotlib.figure.Figure at 0x7f2ff641ceb8>"
      ]
     },
     "metadata": {},
     "output_type": "display_data"
    }
   ],
   "source": [
    "f = lambda x: np.exp(-x)\n",
    "pdf(f)"
   ]
  },
  {
   "cell_type": "markdown",
   "metadata": {},
   "source": [
    "However, we use this distribution only for positive values. It doesn't make sense to say, what would it happen if I leave my computer -3 times in the desk or if I wait -5 minutes in the train station. Thus,"
   ]
  },
  {
   "cell_type": "code",
   "execution_count": 56,
   "metadata": {},
   "outputs": [
    {
     "data": {
      "image/png": "[encoded data removed]",
      "text/plain": [
       "<matplotlib.figure.Figure at 0x7f2ff6206cc0>"
      ]
     },
     "metadata": {},
     "output_type": "display_data"
    }
   ],
   "source": [
    "f = lambda x: [np.exp(-v) if v > 0 else None for v in x]\n",
    "pdf(f)"
   ]
  },
  {
   "cell_type": "markdown",
   "metadata": {},
   "source": [
    "Now, notice that in the equation above we don't have any way to vary the distribution. Let's say we want to fit the exponential distribution $e^{-x}$ to the examples above where we had an event with .2 chance of happening at every unit."
   ]
  },
  {
   "cell_type": "code",
   "execution_count": 57,
   "metadata": {},
   "outputs": [
    {
     "data": {
      "image/png": "[encoded data removed]",
      "text/plain": [
       "<matplotlib.figure.Figure at 0x7f2ff62cb940>"
      ]
     },
     "metadata": {},
     "output_type": "display_data"
    }
   ],
   "source": [
    "plt.scatter(np.arange(len(chances)), (1 - np.array(chances)))\n",
    "f = lambda x: [np.exp(-v) if v > 0 else None for v in x]\n",
    "pdf(f, stop=30)"
   ]
  },
  {
   "cell_type": "markdown",
   "metadata": {},
   "source": [
    "Let's think about the function that models what we want. Say $p$ is the probability of an event happening at each unit of time. Remember that we want to model the probability of the event _not_ happening. We want to start with a probability of 1 at time zero: there was no time for the event to happpen, so it's sure it didn't happen. Now, at the next unit of time, the probability of the event not happening is $(1 - p).$ After another unit of time, the probability of the event not happening is the probability of the event not happening both in the first and second time. Thus, the probability is $(1 - p)^2.$ We can deducd from here that at the unit time t, the probability of the event not happening is $(1 - p)^t$ (ie, at every iteration it had to be the case that the event didn't happen.) \n",
    "\n",
    "$$f(t) = (1-p)^t$$"
   ]
  },
  {
   "cell_type": "markdown",
   "metadata": {},
   "source": [
    "So far we considered discrete examples. However, the formula above can receive t=1.5 as input. What would this mean?\n",
    "\n",
    "To pass from discrete to continouos we have to get rid of thinking that particular events have any chance of happening. Let's prove this.\n",
    "\n",
    "Assume that every particular event has some chance of happening. At every interval you choose, there will be infinitely many of those particular events, ...\n",
    "\n",
    "A better way to think about continouos probability distributions is to consider intervals. Instead of calculating the probability of an event happening at a specific unit of time, we calculate the probability of an event lying in an interval. \n",
    "\n",
    "We now can consider a real train, which can come at every moment. We now want a function f that receives two parameters (start, end) and outputs the probability of the train coming in that interval. We know that f(t, t) = 0, and $lim_{n \\to \\infty}f(0, n) = 1.$ \n",
    "\n",
    "Remember that we are considering intervals instead of points. Thus, now we say there is a .2 chance of a train coming _during_ an unit of time (note the word _during_.) Specifically, we say that at any given point, there will be a .2 chance of a train coming in the next unit of time. It's interesting to consider how this probability remains constant while the probability of no trains appearing decreases exponentially.\n",
    "\n"
   ]
  },
  {
   "cell_type": "code",
   "execution_count": 59,
   "metadata": {
    "scrolled": true
   },
   "outputs": [
    {
     "data": {
      "image/png": "[encoded data removed]",
      "text/plain": [
       "<matplotlib.figure.Figure at 0x7f2ff5f17cf8>"
      ]
     },
     "metadata": {},
     "output_type": "display_data"
    }
   ],
   "source": [
    "plt.scatter(np.arange(len(chances)), (1 - np.array(chances)))\n",
    "f = lambda x: [(4/5) ** (v) if v > 0 else None for v in x]\n",
    "pdf(f, stop=30)"
   ]
  },
  {
   "cell_type": "markdown",
   "metadata": {},
   "source": [
    "ae^(ax) the first $a$ is a normalization term, I think."
   ]
  },
  {
   "cell_type": "code",
   "execution_count": null,
   "metadata": {},
   "outputs": [],
   "source": []
  },
  {
   "cell_type": "markdown",
   "metadata": {},
   "source": [
    "\n",
    "### Example\n",
    "Both the standard deviation and the variance can help us discern between two sets that have the same mean. \n",
    "\n",
    "\n",
    "Although the mean is almost in the same place for both set of values, the variance and SD is less for the blue values than for the orange ones. (Variance 5.81 and SD 2.41 for the blue. Variance 58.89 and SD 7.67 for the orange.\n",
    "\n",
    "(The points that are in the top are the average for their respective sets.)\n"
   ]
  },
  {
   "cell_type": "code",
   "execution_count": 58,
   "metadata": {
    "scrolled": true
   },
   "outputs": [
    {
     "name": "stdout",
     "output_type": "stream",
     "text": [
      "Variance: 6.50. SD: 2.55.\n",
      "Variance: 36.19. SD: 6.02.\n"
     ]
    },
    {
     "data": {
      "image/png": "[encoded data removed]",
      "text/plain": [
       "<matplotlib.figure.Figure at 0x7fc79ada90b8>"
      ]
     },
     "metadata": {},
     "output_type": "display_data"
    }
   ],
   "source": [
    "def variance(X):\n",
    "    avg = np.average(X)\n",
    "    return np.average([(v - avg) ** 2 for v in X])\n",
    "    \n",
    "def sd(X):\n",
    "    return np.sqrt(variance(X))\n",
    "    \n",
    "for X in [[10, 11, 15, 16], [6, 9, 17, 21]]:\n",
    "    variance_val = variance(X)\n",
    "    sd_val = sd(X)\n",
    "    print ('Variance: {:.2f}. SD: {:.2f}.'.format(variance_val, sd_val))\n",
    "    plt.scatter(X + [np.average(X)], [0] * len(X) + [1])\n",
    "    \n",
    "plt.show()"
   ]
  },
  {
   "cell_type": "markdown",
   "metadata": {},
   "source": [
    "## Covariance\n",
    "Say we want to see if two variables are correlated. If the variables are correlated, we can think of them as having a shared generator. Let's say there are three black boxes A, B, and C each one with a button. When we press the button of the box A, we generate a random number $x.$ Then, B and C receive the number $x.$ So, when we press the button of B, we get $y = 2x.$ Also, when we press the button of C, we get $z = 3x.$ In this case, B and C are strongly correlated. In fact, $y = \\frac{2}{3} z.$ In particular, $y$ is positive $\\iff$ $z$ is positive. And $y$ is negative $\\iff$ $z$ is negative.\n",
    "\n",
    "[TODO: develop more this]\n",
    "\n",
    "$$\n",
    "E[(X - E[X])(Y - E[Y])]\n",
    "$$\n",
    "\n",
    "### Properties\n",
    "$$\n",
    "covariance(X, X) = E[(X - E[X])(X - E[X])] = E[(X - E[X]) ^ 2] = var(X)\n",
    "$$"
   ]
  },
  {
   "cell_type": "code",
   "execution_count": 23,
   "metadata": {},
   "outputs": [],
   "source": [
    "def covariance(X, Y):\n",
    "    return np.mean([(v1 - X.mean()) * (v2 - Y.mean()) for v1, v2 in zip(X, Y)])"
   ]
  },
  {
   "cell_type": "markdown",
   "metadata": {},
   "source": [
    "### Signs\n",
    "* If $(X - E[X])$ and $(Y - E[Y])$ consistently have the same sign (both positive or both negative), then the covariance is positive.\n",
    "* If they consistently have different signs, the covariance is negative. \n",
    "* If they don't have consistency is their signs, the covariance is near zero."
   ]
  },
  {
   "cell_type": "code",
   "execution_count": 38,
   "metadata": {},
   "outputs": [
    {
     "name": "stdout",
     "output_type": "stream",
     "text": [
      "8.28977892109\n"
     ]
    }
   ],
   "source": [
    "# covariance > 0\n",
    "X = np.random.uniform(0, 10, 1000)\n",
    "print (covariance(X, X + 5))"
   ]
  },
  {
   "cell_type": "code",
   "execution_count": 39,
   "metadata": {},
   "outputs": [
    {
     "name": "stdout",
     "output_type": "stream",
     "text": [
      "-0.0585714079817\n"
     ]
    }
   ],
   "source": [
    "# covariance ~= 0\n",
    "Y = np.random.uniform(0, 10, 1000)\n",
    "print (covariance(X, Y))"
   ]
  },
  {
   "cell_type": "code",
   "execution_count": 40,
   "metadata": {},
   "outputs": [
    {
     "name": "stdout",
     "output_type": "stream",
     "text": [
      "-8.28977892109\n"
     ]
    }
   ],
   "source": [
    "# covariance < 0\n",
    "print (covariance(X, -1 * X))"
   ]
  },
  {
   "cell_type": "markdown",
   "metadata": {},
   "source": [
    "### Magnitude\n",
    "The magnitude of the covariance determines the strength of the correlation. However, it depends on the given values of the sets X and Y. So, let's normalize it. \n",
    "\n",
    "To do this, we can define the maximum covariance to be 1. We want covariance(X, n * X + b) to be 1 for any n.  "
   ]
  },
  {
   "cell_type": "code",
   "execution_count": 28,
   "metadata": {},
   "outputs": [
    {
     "name": "stdout",
     "output_type": "stream",
     "text": [
      "76.0037888661\n",
      "228.011366598\n",
      "684.034099795\n"
     ]
    }
   ],
   "source": [
    "cov1 = covariance(Y, Y)\n",
    "cov2 = covariance(Y, 3 * Y)\n",
    "cov3 = covariance(3 * Y, 3 * Y)\n",
    "print (cov1)\n",
    "print (cov2)\n",
    "print (cov3)"
   ]
  },
  {
   "cell_type": "markdown",
   "metadata": {},
   "source": [
    "All those three values should be one. Let's focus on $covariance(Y, 3 \\cdot Y)$. By inspection, we can see that cov2 is the geometric mean of cov1 and cov3. Thus, if we divide cov2 by $\\sqrt{cov1 \\cdot cov3}$ (geometric mean) we get 1. \n",
    "\n",
    "Thus, this is the equation we want:\n",
    "$$\n",
    "\\begin{align}\n",
    "normalized\\_covariance(X, Y) &= \\frac{covariance(X, Y)}{\\sqrt{covariance(X, X) covariance(Y, Y)}} \\\\\n",
    "normalized\\_covariance(X, Y) &= \\frac{covariance(X, Y)}{\\sqrt{variance(X)} \\sqrt{variance(Y)}} \\\\\n",
    "normalized\\_covariance(X, Y) &= \\frac{covariance(X, Y)}{sd(X)sd(Y)} \\\\ \n",
    "\\end{align}\n",
    "$$"
   ]
  },
  {
   "cell_type": "code",
   "execution_count": 54,
   "metadata": {},
   "outputs": [],
   "source": [
    "def normalized_covariance(X, Y):\n",
    "    return covariance(X, Y) / (sd(X) * sd(Y))"
   ]
  },
  {
   "cell_type": "code",
   "execution_count": 42,
   "metadata": {},
   "outputs": [
    {
     "name": "stdout",
     "output_type": "stream",
     "text": [
      "1.0\n"
     ]
    }
   ],
   "source": [
    "print (normalized_covariance(Y, 3 * Y))"
   ]
  },
  {
   "cell_type": "code",
   "execution_count": 43,
   "metadata": {},
   "outputs": [
    {
     "name": "stdout",
     "output_type": "stream",
     "text": [
      "1.0\n"
     ]
    }
   ],
   "source": [
    "print (normalized_covariance(Y, Y))"
   ]
  },
  {
   "cell_type": "code",
   "execution_count": 44,
   "metadata": {},
   "outputs": [
    {
     "name": "stdout",
     "output_type": "stream",
     "text": [
      "-1.0\n"
     ]
    }
   ],
   "source": [
    "print (normalized_covariance(Y, -Y))"
   ]
  },
  {
   "cell_type": "markdown",
   "metadata": {},
   "source": [
    "### Examples\n",
    "#### Similar sets, different covariance\n",
    "In the experiment below although X and Y have almost the same range, average, and SD, they have a covariance of almost 0, because a number in X doesn't give us information about a number in Y."
   ]
  },
  {
   "cell_type": "code",
   "execution_count": 32,
   "metadata": {
    "scrolled": true
   },
   "outputs": [
    {
     "name": "stdout",
     "output_type": "stream",
     "text": [
      "0.00104886077971\n",
      "0.287368473036 0.286135362944\n"
     ]
    }
   ],
   "source": [
    "X = np.random.uniform(0, 1, 1000)\n",
    "Y = np.random.uniform(0, 1, 1000)\n",
    "print (normalized_covariance(X, Y))\n",
    "print (sd(X), sd(Y))"
   ]
  },
  {
   "cell_type": "markdown",
   "metadata": {},
   "source": [
    "#### Visualizations\n",
    "This is another way to visualize the covariance: how different is the shape of the lines below."
   ]
  },
  {
   "cell_type": "code",
   "execution_count": 34,
   "metadata": {},
   "outputs": [
    {
     "name": "stdout",
     "output_type": "stream",
     "text": [
      "0.77857905587\n"
     ]
    },
    {
     "data": {
      "image/png": "[encoded data removed]",
      "text/plain": [
       "<matplotlib.figure.Figure at 0x7f2d948c4eb8>"
      ]
     },
     "metadata": {},
     "output_type": "display_data"
    }
   ],
   "source": [
    "X = np.random.uniform(0, 1, 10)\n",
    "Y = X + np.random.uniform(-.3, .3, 10)\n",
    "print (normalized_covariance(X, Y))\n",
    "pp.plot(range(len(X)), X)\n",
    "pp.plot(range(len(Y)), Y)\n",
    "pp.show()"
   ]
  },
  {
   "cell_type": "markdown",
   "metadata": {},
   "source": [
    "They don't need to go through similar positions in the plot. Instead, we only need similar shapes."
   ]
  },
  {
   "cell_type": "code",
   "execution_count": 35,
   "metadata": {},
   "outputs": [
    {
     "name": "stdout",
     "output_type": "stream",
     "text": [
      "1.0\n"
     ]
    },
    {
     "data": {
      "image/png": "[encoded data removed]",
      "text/plain": [
       "<matplotlib.figure.Figure at 0x7f2d8fd5eb00>"
      ]
     },
     "metadata": {},
     "output_type": "display_data"
    }
   ],
   "source": [
    "X = np.random.uniform(0, 1, 10)\n",
    "Y = 2 * X - 2 \n",
    "print (normalized_covariance(X, Y))\n",
    "pp.plot(range(len(X)), X)\n",
    "pp.plot(range(len(Y)), Y)\n",
    "pp.show()"
   ]
  },
  {
   "cell_type": "markdown",
   "metadata": {},
   "source": [
    "## Covariance matrix\n",
    "Sometimes, a random variable has more than one dimension. For instance, the input of a neural network could be an image, where each pixel corresponds to a variable. So, if we have an image of 32x32 pixels, we have a random vector of 1024 variables. We probably have redundant information in this vector. For any given photo, we usually have a region that is full of one color (eg in landscapes, we have always the sky). So, there's a correlation between the pixels. Clearly, every pixel isn't independent.\n",
    "\n",
    "Thus, we can create a matrix where the i, j element represents the covariance between the elements i and j of the random vector."
   ]
  },
  {
   "cell_type": "code",
   "execution_count": 56,
   "metadata": {},
   "outputs": [],
   "source": [
    "def cov_matrix(X):\n",
    "    return [[normalized_covariance(x1, x2) for x1 in X] for x2 in X]"
   ]
  },
  {
   "cell_type": "code",
   "execution_count": 68,
   "metadata": {
    "scrolled": true
   },
   "outputs": [
    {
     "name": "stdout",
     "output_type": "stream",
     "text": [
      "\n",
      "\n",
      "1\n"
     ]
    },
    {
     "data": {
      "image/png": "[encoded data removed]",
      "text/plain": [
       "<matplotlib.figure.Figure at 0x7fc79ae629e8>"
      ]
     },
     "metadata": {},
     "output_type": "display_data"
    },
    {
     "name": "stdout",
     "output_type": "stream",
     "text": [
      "\n",
      "\n",
      "2\n"
     ]
    },
    {
     "data": {
      "image/png": "[encoded data removed]",
      "text/plain": [
       "<matplotlib.figure.Figure at 0x7fc79af4dc18>"
      ]
     },
     "metadata": {},
     "output_type": "display_data"
    },
    {
     "name": "stdout",
     "output_type": "stream",
     "text": [
      "\n",
      "\n",
      "3\n"
     ]
    },
    {
     "data": {
      "image/png": "[encoded data removed]",
      "text/plain": [
       "<matplotlib.figure.Figure at 0x7fc79ae62390>"
      ]
     },
     "metadata": {},
     "output_type": "display_data"
    },
    {
     "name": "stdout",
     "output_type": "stream",
     "text": [
      "\n",
      "\n",
      "4\n"
     ]
    },
    {
     "data": {
      "image/png": "[encoded data removed]",
      "text/plain": [
       "<matplotlib.figure.Figure at 0x7fc79af82e10>"
      ]
     },
     "metadata": {},
     "output_type": "display_data"
    },
    {
     "name": "stdout",
     "output_type": "stream",
     "text": [
      "\n",
      "\n",
      "5\n"
     ]
    },
    {
     "data": {
      "image/png": "[encoded data removed]",
      "text/plain": [
       "<matplotlib.figure.Figure at 0x7fc7a41e2ef0>"
      ]
     },
     "metadata": {},
     "output_type": "display_data"
    },
    {
     "name": "stdout",
     "output_type": "stream",
     "text": [
      "\n",
      "\n",
      "6\n"
     ]
    },
    {
     "data": {
      "image/png": "[encoded data removed]",
      "text/plain": [
       "<matplotlib.figure.Figure at 0x7fc79aba76d8>"
      ]
     },
     "metadata": {},
     "output_type": "display_data"
    },
    {
     "name": "stdout",
     "output_type": "stream",
     "text": [
      "\n",
      "\n",
      "7\n"
     ]
    },
    {
     "data": {
      "image/png": "[encoded data removed]",
      "text/plain": [
       "<matplotlib.figure.Figure at 0x7fc79ab091d0>"
      ]
     },
     "metadata": {},
     "output_type": "display_data"
    },
    {
     "name": "stdout",
     "output_type": "stream",
     "text": [
      "\n",
      "\n",
      "8\n"
     ]
    },
    {
     "data": {
      "image/png": "[encoded data removed]",
      "text/plain": [
       "<matplotlib.figure.Figure at 0x7fc79a8a1a20>"
      ]
     },
     "metadata": {},
     "output_type": "display_data"
    },
    {
     "name": "stdout",
     "output_type": "stream",
     "text": [
      "\n",
      "\n",
      "9\n"
     ]
    },
    {
     "data": {
      "image/png": "[encoded data removed]",
      "text/plain": [
       "<matplotlib.figure.Figure at 0x7fc79a8a1550>"
      ]
     },
     "metadata": {},
     "output_type": "display_data"
    },
    {
     "name": "stdout",
     "output_type": "stream",
     "text": [
      "\n",
      "\n",
      "10\n"
     ]
    },
    {
     "data": {
      "image/png": "[encoded data removed]",
      "text/plain": [
       "<matplotlib.figure.Figure at 0x7fc79a8435c0>"
      ]
     },
     "metadata": {},
     "output_type": "display_data"
    },
    {
     "name": "stdout",
     "output_type": "stream",
     "text": [
      "\n",
      "\n",
      "11\n"
     ]
    },
    {
     "data": {
      "image/png": "[encoded data removed]",
      "text/plain": [
       "<matplotlib.figure.Figure at 0x7fc79ace8198>"
      ]
     },
     "metadata": {},
     "output_type": "display_data"
    },
    {
     "name": "stdout",
     "output_type": "stream",
     "text": [
      "\n",
      "\n",
      "12\n"
     ]
    },
    {
     "data": {
      "image/png": "[encoded data removed]",
      "text/plain": [
       "<matplotlib.figure.Figure at 0x7fc79aa20dd8>"
      ]
     },
     "metadata": {},
     "output_type": "display_data"
    }
   ],
   "source": [
    "import imageio\n",
    "import visvis as vv\n",
    "\n",
    "X = np.zeros((144, 5))\n",
    "\n",
    "for i in range(5):\n",
    "    image = imageio.imread(f'probs/{i}.png')\n",
    "    image = image[:, :, 2]\n",
    "    X[:, i] = image.reshape(-1)\n",
    "\n",
    "cov = np.array(cov_matrix(X))\n",
    "for i in range(12):\n",
    "    print (f'\\n\\n{i + 1}')\n",
    "    to_show = cov[12 * i:12 * (i + 1), 12 * i:12 * (i + 1)]\n",
    "    plt.imshow(to_show)\n",
    "    plt.show()"
   ]
  },
  {
   "cell_type": "markdown",
   "metadata": {},
   "source": [
    "Each square above corresponds to the covariance of one row of 12 pixels. As we have 12x12 emoji images, we have 12 of this covariances. Observe the first covariance matrix. Yellow means high covariance. Blue means low covariance. The corners are yellow. This means that the first 4 pixels and the last 4 pixels are highly redundant; knowing only one of the 8 pixels is enough to tell the value of the other 7.\n",
    "\n",
    "The second image tells us about the second row of 12 pixels. Again, we have yellow corners, but they are less bright and smaller. We are approaching the image. \n",
    "\n",
    "In the third and fourth images, the strong correlation shifts from the corners to the center. This means we are inside the face, probably in the forehead.\n",
    "\n",
    "In the fifth and sixth images, we have no clear correlation we probably are in the eyes and approaching the mouth.\n",
    "\n",
    "The eigth and ninth images show a very interesting pattern: they are almost symmetric in the diagonal that goes from right-top to left-bottom. All covariance matrices are symmetric in the diagional that goes from left-top to right-bottom, because in the i, j position we are computing the same covariance as in the j, i position. But the symmetry in this two images says that the covariance in the i, j position is similar to the covariance in the 12-i, 12-j (with 12 being the length of the image.) The cause could be the symmetry in the mouths of every emoji face.\n",
    "\n",
    "Redundancy is transitive. "
   ]
  },
  {
   "cell_type": "markdown",
   "metadata": {},
   "source": [
    "# More things"
   ]
  },
  {
   "cell_type": "code",
   "execution_count": 33,
   "metadata": {},
   "outputs": [
    {
     "name": "stdout",
     "output_type": "stream",
     "text": [
      "-0.0163081124183\n",
      "            [ 0.88492785  0.14394577  0.61664824  0.33844292  0.63788587  0.7796752 ]\n",
      "[ 0.00136524  0.88492785  0.14394577  0.61664824  0.33844292  0.63788587]\n"
     ]
    }
   ],
   "source": [
    "X = np.random.uniform(0, 1, 1000)\n",
    "Y = np.roll(X, 1)\n",
    "print (normalized_covariance(X, Y))\n",
    "print (' ' * 11, X[0:6])\n",
    "print (Y[0:6])"
   ]
  },
  {
   "cell_type": "markdown",
   "metadata": {},
   "source": [
    "Here we shifted X by one position to the right and store that value on Y. Now we have almost no covariance between the two sets, although they are the same but shifted one position! "
   ]
  },
  {
   "cell_type": "markdown",
   "metadata": {},
   "source": [
    "### Covariance vector\n",
    "We can see what we have done as a tool to correlate two random variables in one dimension. Now, what if the variables are multidimensional? (who doesn't like more dimensions? :)\n",
    "\n",
    "We have two vectors X and Y that are n-dimensional. Each dimension of X and Y act as a random variable. So, if we want to see whether X and Y are correlated, we just have to see if their dimensions are correlated.\n",
    "\n",
    "$$covariance\\_vector(X, Y)_i = covariance(X_i, Y_i)$$"
   ]
  },
  {
   "cell_type": "code",
   "execution_count": 36,
   "metadata": {
    "scrolled": true
   },
   "outputs": [
    {
     "name": "stdout",
     "output_type": "stream",
     "text": [
      "[-0.076216981106705967, 1.0, -0.20110084106615569]\n"
     ]
    }
   ],
   "source": [
    "def covariance_vector(X, Y):\n",
    "    return [normalized_covariance(x, y) for x, y in zip(X, Y)]\n",
    "\n",
    "X1 = np.random.uniform(0, 1, 100)\n",
    "X2 = np.random.uniform(0, 1, 100)\n",
    "X3 = np.random.uniform(0, 1, 100)\n",
    "Y1 = np.random.uniform(0, 1, 100)\n",
    "Y2 = X2\n",
    "Y3 = X1\n",
    "\n",
    "print (covariance_vector([X1, X2, X3], [Y1, Y2, Y3]))"
   ]
  },
  {
   "cell_type": "markdown",
   "metadata": {},
   "source": [
    "### Covariance matrix [FIX: this isn't the covariance matrix]\n",
    "If the dimension i of X is correlated to the dimension j of Y (with i != j) the covariance vector won't tell us. So we need something more complex. We want to compare each dimension of X with each other dimension of Y. This will give us a matrix instead of a vector.\n",
    "\n",
    "$$covariance\\_matrix(X, Y)_{i  j} = covariance(X_i, Y_j)$$\n"
   ]
  },
  {
   "cell_type": "code",
   "execution_count": 37,
   "metadata": {},
   "outputs": [
    {
     "name": "stdout",
     "output_type": "stream",
     "text": [
      "[[0.041982417017125094, -0.023868893287739498, -0.042131646563045425],\n",
      " [-0.043663417008687769, 1.0000000000000002, 0.026491875662892732],\n",
      " [1.0, -0.043663417008687769, 0.16941399178513308]]\n"
     ]
    }
   ],
   "source": [
    "def covariance_matrix(X, Y):\n",
    "    return [[normalized_covariance(x, y) for x in X] for y in Y]\n",
    "\n",
    "X1 = np.random.uniform(0, 1, 100)\n",
    "X2 = np.random.uniform(0, 1, 100)\n",
    "X3 = np.random.uniform(0, 1, 100)\n",
    "Y1 = np.random.uniform(0, 1, 100)\n",
    "Y2 = X2\n",
    "Y3 = X1\n",
    "\n",
    "pprint (covariance_matrix([X1, X2, X3], [Y1, Y2, Y3]))"
   ]
  },
  {
   "cell_type": "markdown",
   "metadata": {},
   "source": [
    "Here we discovered that the third dimension of Y (Y3) was strongly correlated with the first dimension of X (X1)"
   ]
  },
  {
   "cell_type": "code",
   "execution_count": 55,
   "metadata": {},
   "outputs": [
    {
     "data": {
      "image/png": "[encoded data removed]",
      "text/plain": [
       "<matplotlib.figure.Figure at 0x7f2d9479b390>"
      ]
     },
     "metadata": {},
     "output_type": "display_data"
    }
   ],
   "source": [
    "N = 50\n",
    "points = np.zeros((2, N))\n",
    "points[0, :] = np.random.uniform(-1, 1, size=(1, N))\n",
    "points[1, :] = points[0, :] + np.random.uniform(-.1, .1, size=(1, N))\n",
    "plt.scatter(points[0, :], points[1, :])\n",
    "plt.show()"
   ]
  },
  {
   "cell_type": "code",
   "execution_count": 54,
   "metadata": {},
   "outputs": [
    {
     "name": "stdout",
     "output_type": "stream",
     "text": [
      "[[0.26891040194126947, 0.26235852292018086], [0.26235852292018086, 0.25922004410847138]]\n",
      "[[ 0.2689104   0.26235852]\n",
      " [ 0.26235852  0.25922004]]\n"
     ]
    }
   ],
   "source": [
    "cov = np.zeros((2, 2))\n",
    "cov[0][0] = variance(points[0, :])\n",
    "cov[1][1] = variance(points[1, :])\n",
    "cov[0][1] = covariance(points[0, :], points[1, :])\n",
    "cov[1][0] = cov[0][1]\n",
    "print (cov_matrix(points))\n",
    "print (cov)"
   ]
  },
  {
   "cell_type": "code",
   "execution_count": 63,
   "metadata": {},
   "outputs": [
    {
     "data": {
      "image/png": "[encoded data removed]",
      "text/plain": [
       "<matplotlib.figure.Figure at 0x7f2d948d5780>"
      ]
     },
     "metadata": {},
     "output_type": "display_data"
    }
   ],
   "source": [
    "N = 50\n",
    "points2 = np.zeros((2, N))\n",
    "points2[0, :] = np.random.uniform(-1, 1, size=(1, N))\n",
    "points2[1, :] = np.random.uniform(-.1, .1, size=(1, N))\n",
    "plt.scatter(points2[0, :], points2[1, :])\n",
    "plt.scatter(0, 1)\n",
    "plt.scatter(0, -1)\n",
    "plt.show()"
   ]
  },
  {
   "cell_type": "code",
   "execution_count": 19,
   "metadata": {},
   "outputs": [
    {
     "ename": "NameError",
     "evalue": "name 'points2' is not defined",
     "output_type": "error",
     "traceback": [
      "\u001b[0;31m---------------------------------------------------------------------------\u001b[0m",
      "\u001b[0;31mNameError\u001b[0m                                 Traceback (most recent call last)",
      "\u001b[0;32m<ipython-input-19-efe087b611da>\u001b[0m in \u001b[0;36m<module>\u001b[0;34m()\u001b[0m\n\u001b[0;32m----> 1\u001b[0;31m \u001b[0mpprint\u001b[0m \u001b[0;34m(\u001b[0m\u001b[0mcov_matrix\u001b[0m\u001b[0;34m(\u001b[0m\u001b[0mpoints2\u001b[0m\u001b[0;34m)\u001b[0m\u001b[0;34m)\u001b[0m\u001b[0;34m\u001b[0m\u001b[0m\n\u001b[0m",
      "\u001b[0;31mNameError\u001b[0m: name 'points2' is not defined"
     ]
    }
   ],
   "source": [
    "pprint (cov_matrix(points2))"
   ]
  },
  {
   "cell_type": "markdown",
   "metadata": {},
   "source": [
    "What does it mean to have low variance in a given dimension? It means that knowing the value in this given dimension doesn't tell you a lot of information. Consider the case of a dimension with zero variance. Then the value of every data point in this dimension will be always the same. So, we loss no information removing this dimension. (FYI information theory tells us that the information of an event is related to the probability of that event by I(X = x) = -log(P(X = x)). When P(X = x) is 1, I(X = x) = -log(1) = 0.) [expand in the relationshipo between variance and information] "
   ]
  },
  {
   "cell_type": "markdown",
   "metadata": {},
   "source": [
    "This is great if you think about it. Because we can remove redundant information and reduce our matrix to the dimensions that convey the most variance. For instance, in the second plot, if we remove the vertical dimension, we will lose only so much variance (and hence information). In contrast, in the first plot, removing the vertical dimension will be terrible! We will lose half of our information. Buut, there is a catch! If we take choose another basis for the first dataset, we can get high variance in one dimension and low variance in the other, and then remove the low-variance dimension. "
   ]
  },
  {
   "cell_type": "markdown",
   "metadata": {},
   "source": [
    "## Moments\n"
   ]
  },
  {
   "cell_type": "markdown",
   "metadata": {},
   "source": [
    "### To add\n",
    "Multivariable covariance\n",
    "Is the case that maximizing the variance in each step for let's say five dimensions yields the max variance in five dimensions? Couldn't it be a local optima in terms of variances?\n",
    "Difference between uncorrelated and independence.\n",
    "\n",
    "Recetita del día\n",
    "\n",
    "Show that E[x+y] = E[x] + E[y] (maybe by using a table?)\n",
    "\n",
    "show that Var(XY) = Var(X)Var(Y) when X, Y independent\n",
    "\n",
    "Continue with the weight initialization thing"
   ]
  },
  {
   "cell_type": "markdown",
   "metadata": {},
   "source": [
    "# Maximum a posteriori\n",
    "In Maximum Likelihood Estimation, we want to get the parameter $\\theta$ that makes the data $p(y|X)$ most likely. \n",
    "\n",
    "MLE: $argmax_\\theta \\  p(y|X;\\theta)$\n",
    "\n",
    "However, we can also get the parameter that is most likely given the data \n",
    "\n",
    "MAP: $argmax_\\theta\\ p(\\theta|X, y)$\n",
    "\n",
    "They are the same. In the end, we are trying to get the $\\theta$ that maximizes $p(X, Y, \\theta).$\n",
    "\n",
    "page 12 how from \\epsilon to p(y|x;thta)\n",
    "page 11 why trace?"
   ]
  },
  {
   "cell_type": "code",
   "execution_count": null,
   "metadata": {},
   "outputs": [],
   "source": []
  }
 ],
 "metadata": {
  "kernelspec": {
   "display_name": "Python 3",
   "language": "python",
   "name": "python3"
  },
  "language_info": {
   "codemirror_mode": {
    "name": "ipython",
    "version": 3
   },
   "file_extension": ".py",
   "mimetype": "text/x-python",
   "name": "python",
   "nbconvert_exporter": "python",
   "pygments_lexer": "ipython3",
   "version": "3.6.7"
  }
 },
 "nbformat": 4,
 "nbformat_minor": 2
}
