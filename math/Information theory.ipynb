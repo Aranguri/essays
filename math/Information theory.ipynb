{
 "cells": [
  {
   "cell_type": "markdown",
   "metadata": {},
   "source": [
    "### To do\n",
    "- http://math.harvard.edu/~ctm/home/text/others/shannon/entropy/entropy.pdf"
   ]
  },
  {
   "cell_type": "markdown",
   "metadata": {},
   "source": [
    "# Explanation 1\n",
    "### Self-information\n",
    "#### Requirements\n",
    "We want to measure information. If we think about it, information is similar to surprise. [Link to appendix] So, let's define a function $I$ that tells us how informative is that an event happened. We have three requirements\n",
    "\n",
    "1) If we are 100% that an event will happen, then we have 0 surprise. Formally, if P(E = e) = 1 then I(E = e) = 0. \n",
    "\n",
    "2) The more sure we are an event won't happen, the more it surprsies when it happens. If we are 100% sure that the event won't happen, the event will surprise us infinitely. Formally, when p(E = e) tends to 0, then I(E = e) tends to infinity. \n",
    "\n",
    "3) Finally, the information of two independent events happening at the same time should be the same as the  information of each event happening separately. For instance, take a tossing coin and a dice. What we want is:\n",
    "\n",
    "I(coin = heads) + I(dice = 1) = I(coin = heads and dice = 1)\n",
    "\n",
    "This means that the information of the coin coming up heads plus the information of the dice coming up 1 should be equal to the information of both the coin coming up heads and the dice coming up 1.\n",
    "\n",
    "#### Self-information function\n",
    "Taking these three requirements into account, let's think of a function $f$ that takes how probable is an event and tells you how informative it is. For the third requirement we need $f(1/2) + f(1/6) = f(1/2 * 1/6).$\n",
    "\n",
    "The following functions does the job $f(x) = K log(x)$ (for any real K and any base for the logarithm.) \n",
    "\n",
    "This function works for the third requirement because $K log(a * b) = K log(a) + K log(b)$. Also, it fulfills the first requirement, because $log(1) = 0$\n",
    "\n",
    "Now, we want $\\lim_{x\\to 0} log(x)=\\infty.$ For every positive K, as x is between 0 and 1, $log(x) < 0.$ We can discard every positive value for K, because we want positive information for every event with probability smaller than 1. Now, every negative value for K will work. For simplicity, we can take $K = -1$ and define the self-information as\n",
    "\n",
    "$$I(e) = -log(P(e))$$\n",
    "\n",
    "\n",
    "\n",
    "Question: are there any other functions besides the logarithm with that fulfills the property $f(a) + f(b) = f(a * b).$? "
   ]
  },
  {
   "cell_type": "code",
   "execution_count": 2,
   "metadata": {},
   "outputs": [
    {
     "name": "stdout",
     "output_type": "stream",
     "text": [
      "I(coin = heads) = 1.0\n",
      "I(dice = 1) = 2.584962500721156\n",
      "I(coin = heads and dice = 1) = 3.584962500721156\n"
     ]
    }
   ],
   "source": [
    "import numpy as np\n",
    "import matplotlib.pyplot as plt\n",
    "\n",
    "def info(x):\n",
    "    #We use base 2 log to have nicer calculations\n",
    "    return -np.log2(x)\n",
    "\n",
    "print (f'I(coin = heads) = {info(1/2)}')\n",
    "print (f'I(dice = 1) = {info(1/6)}')\n",
    "print (f'I(coin = heads and dice = 1) = {info((1/2) * (1/6))}')"
   ]
  },
  {
   "cell_type": "markdown",
   "metadata": {},
   "source": [
    "### Entropy\n",
    "#### Interesting worlds\n",
    "Now that we know how the information of an event relates to its probability of happening, it's time to talk about a set of events. Imagine you have a set $\\Omega$ of possible outcomes, each with a probability attached. For instance, with the tossing coin we have $\\Omega = \\{heads, tails\\}.$ With regards to the probabilities, consider the case where we have an unbalanced coin. Thus, $P(heads) = r$ and $P(tails) = 1 - r$ with $r$ between 0 and 1. We want a measure of how interesting each world is. For instance, a world where the coin always comes up heads is pretty boring. We are certain of what's going to happen before it happens. But if the coin is normal, that is, if the coin comes up heads and tails equally likely, then it's interesting. \n",
    "\n",
    "Also if we observe a world where ten events can happen equally likely, it will be much more interesting than observing a world with only one event. \n",
    "\n",
    "Note that a world is \"more interesting\" than the other if, for a given event that happened at time t, we were, at time t-1, less certain of it happening. (Thus, more interesting <=> less certain) Now, the less certain we are about an outcome, the more information we receive when we see the result. (Thus, less certain <=> more informative.) Logically, more interesting <=> more informative. \n",
    "\n",
    "#### Formula\n",
    "Thus, how interesting is a world is the same as the expected information received by observing what happens in that world. Using formal terms, each world corresponds to a probability distribution $X$, the expected information is  $E[I(X)]$, and our measure of interestingness is a function called entropy denoted $H.$\n",
    "\n",
    "$$H(X) = E[I(X)]$$\n",
    "\n",
    "#### Prediction interpretation\n",
    "We can also think of the entropy in a world with two possible outcomes as how many times I'm wrong if I have to predict the next outcome. In the case where the two possible outcomes are equally likely, then I have no option but to select at random between the two options. But if one outcome is more likely than the other, then I can use that information and always predict the more probable option. In this case, I will be wrong less times. In the extreme case, when one outcome always happens and the other never happens, I will be wrong 0 times. \n",
    "\n",
    "#### Analytical interpretation\n",
    "You can ask, how can it happen that one world can have a smaller expected information than other? After all, in every world we are receiving the same data (namely, that one event happened.) So, how's that? \n",
    "\n",
    "We know that \n",
    "\n",
    "$$I(e) = -log(P(e)) = log(1 / P(e))$$\n",
    "\n",
    "That is, the information of the event e is inversely proportional to the log of its probability of happening. \n",
    "\n",
    "So, let's say we have a world with a tossing coin. We have \n",
    "$$E[I(X)] = P(heads) * I(heads) + P(tails) * I(tails) $$\n",
    "\n",
    "We can see from this equation that if $P$ and $I$ were inversely proportional (i.e., $I(e) = 1 / P(e)$) then $E[I(X)]$ should be a constant. But the log changes this behavior. To understand why, let's examine the following equation.\n",
    "\n",
    "Let's define two worlds $a, b$ each world has only two possible states/outcomes $a_1, a_2$ for the world $a$ and  $b_1, b_2$ for $b$.\n",
    "\n",
    "Now, let's define the probabilities and calculate the information\n",
    "\n",
    "$$\n",
    "P(a_1) = 1/3 \\quad I(a_1) \\approx 1.1 \\quad I(a_1) * P(a_1) \\approx .36 \\\\\n",
    "P(a_2) = 2/3 \\quad I(a_2) \\approx .41 \\quad I(a_2) * P(a_2) \\approx .27 \\\\ \n",
    "P(b_1) = 1/2 \\quad I(b_1) \\approx .69 \\quad I(b_1) * P(b_1) \\approx .35 \\\\\n",
    "P(b_2) = 1/2 \\quad I(b_2) \\approx .69 \\quad I(b_2) * P(b_2) \\approx .35 \\\\\n",
    "H(a) \\approx .36 + .27 = .63 \\\\\n",
    "H(b) \\approx .35 + .35 = .7 \\\\\n",
    "$$\n",
    "\n",
    "What we note here is that the entropy (expected information) in the world $b$ is more than in the world $a.$ So imagine we start in the world $b$ and we reduce the probability of the first event by $1/6$ and increase the probability of the second event by $1/6.$ In this way, we arrive at world $a.$ What I want to show is that the increment in information in the first event is less than the decrement in information in the second event (it's easy to see how that applies to the above example, for .36 - .35 < .35 - .27)\n",
    "\n",
    "So what we have is that\n",
    "$$\n",
    "(x + y) f(x + y) - x f(x) = -(x + y) log(x + y) - x -log(x) = -log((x + y)^{(x + y)}) - log(x^x) = \n",
    "-log((x + y)^{(x + y)} / x^x) \\\\\n",
    "x * f(x) - (x - y) * f(x - y) = -log(x^x) -log((x-y)^{(x-y)}) = -log(x^x / (x-y)^{(x-y)})\n",
    "$$\n",
    "\n",
    "Now, what's bigger $(x + y)^{(x + y)} / x^x$ or $x^x / (x-y)^{(x-y)}.$ Let's assume\n",
    "$$\n",
    "(x + y)^{(x + y)} / x^x > x^x / (x-y)^{(x-y)}\n",
    "$$"
   ]
  },
  {
   "cell_type": "code",
   "execution_count": 15,
   "metadata": {},
   "outputs": [],
   "source": [
    "def entropy(distribution):\n",
    "    return sum([p * -np.log2(p) for p in distribution if p != 0])"
   ]
  },
  {
   "cell_type": "code",
   "execution_count": 16,
   "metadata": {},
   "outputs": [
    {
     "data": {
      "text/plain": [
       "0.0"
      ]
     },
     "execution_count": 16,
     "metadata": {},
     "output_type": "execute_result"
    }
   ],
   "source": [
    "entropy([0, 1])"
   ]
  },
  {
   "cell_type": "code",
   "execution_count": 17,
   "metadata": {},
   "outputs": [
    {
     "data": {
      "text/plain": [
       "1.0"
      ]
     },
     "execution_count": 17,
     "metadata": {},
     "output_type": "execute_result"
    }
   ],
   "source": [
    "entropy([.5, .5])"
   ]
  },
  {
   "cell_type": "code",
   "execution_count": 18,
   "metadata": {},
   "outputs": [
    {
     "data": {
      "text/plain": [
       "0.97095059445466858"
      ]
     },
     "execution_count": 18,
     "metadata": {},
     "output_type": "execute_result"
    }
   ],
   "source": [
    "entropy([.4, .6])"
   ]
  },
  {
   "cell_type": "markdown",
   "metadata": {},
   "source": [
    "As we said before, the entropy is maximum when all the outcomes are equally likely and decreases when we make an unbalanced distribution."
   ]
  },
  {
   "cell_type": "code",
   "execution_count": 20,
   "metadata": {},
   "outputs": [
    {
     "data": {
      "text/plain": [
       "[<matplotlib.lines.Line2D at 0x7f82fd9d5198>]"
      ]
     },
     "execution_count": 20,
     "metadata": {},
     "output_type": "execute_result"
    },
    {
     "data": {
      "image/png": "[encoded data removed]",
      "text/plain": [
       "<matplotlib.figure.Figure at 0x7f82fdcebe10>"
      ]
     },
     "metadata": {},
     "output_type": "display_data"
    }
   ],
   "source": [
    "xs = np.linspace(0, 1, 100)\n",
    "ys = [entropy([x, 1-x]) for x in xs]\n",
    "plt.plot(xs, ys)"
   ]
  },
  {
   "cell_type": "code",
   "execution_count": 21,
   "metadata": {},
   "outputs": [
    {
     "data": {
      "text/plain": [
       "2.0"
      ]
     },
     "execution_count": 21,
     "metadata": {},
     "output_type": "execute_result"
    }
   ],
   "source": [
    "entropy([.25, .25, .25, .25])"
   ]
  },
  {
   "cell_type": "code",
   "execution_count": 22,
   "metadata": {},
   "outputs": [
    {
     "data": {
      "text/plain": [
       "3.0"
      ]
     },
     "execution_count": 22,
     "metadata": {},
     "output_type": "execute_result"
    }
   ],
   "source": [
    "entropy([1/8] * 8)"
   ]
  },
  {
   "cell_type": "markdown",
   "metadata": {},
   "source": [
    "As we can see above the maximum entropy increases with the log of the amount of variables we are measuring.\n",
    "Now, we can define the normalized entropy as how uncertain we are of the outcome in a world relative to it size. "
   ]
  },
  {
   "cell_type": "code",
   "execution_count": 26,
   "metadata": {},
   "outputs": [],
   "source": [
    "def normalized_entropy(distribution):\n",
    "    n = len(distribution)\n",
    "    max_entropy = [1 / n] * n\n",
    "    return entropy(distribution) / entropy(max_entropy)"
   ]
  },
  {
   "cell_type": "code",
   "execution_count": 31,
   "metadata": {},
   "outputs": [
    {
     "data": {
      "text/plain": [
       "1.0"
      ]
     },
     "execution_count": 31,
     "metadata": {},
     "output_type": "execute_result"
    }
   ],
   "source": [
    "normalized_entropy([.25, .25, .25, .25])"
   ]
  },
  {
   "cell_type": "code",
   "execution_count": 47,
   "metadata": {},
   "outputs": [
    {
     "data": {
      "text/plain": [
       "0.96022971786076117"
      ]
     },
     "execution_count": 47,
     "metadata": {},
     "output_type": "execute_result"
    }
   ],
   "source": [
    "normalized_entropy([.2, .4, .4])"
   ]
  },
  {
   "cell_type": "code",
   "execution_count": 56,
   "metadata": {},
   "outputs": [
    {
     "data": {
      "text/plain": [
       "0.96013330074963765"
      ]
     },
     "execution_count": 56,
     "metadata": {},
     "output_type": "execute_result"
    }
   ],
   "source": [
    "normalized_entropy([.383, .617])"
   ]
  },
  {
   "cell_type": "markdown",
   "metadata": {},
   "source": [
    "### Cross-entropy\n",
    "Now, what happens if I think that the events in a world are governed by some probability distribution $q$, but in reality they are governed by a probability distribution $p$?\n",
    "\n",
    "My surprisal will be given by my perception of the world (i.e., by the distribution $q$). That is, if I think that an event happens only 1% of the time, I would be very surprised if it happens ten times in a row. That surprise doesn't change if the event in the reality had 10% chance of happening or a 100% chance of happening.\n",
    "\n",
    "However, the distribution of when each event happens isn't governed by my beliefs but by the reality.\n",
    "\n",
    "So, we have that a set of events happen with a probability distribution $p$ but the surprise is given by the probability distribution $q.$\n",
    "\n",
    "Thus, we want a new version of the entropy, one that allows us to use different distributions for the probability of an event and for the surprisal of an event. \n",
    "\n",
    "$$H(p, q) = -\\sum_{x_i} p(x_i) log(q(x_i)) = \\sum_{x_i} p(x_i) log\\frac{1}{q(x_i)}$$\n",
    "\n",
    "Note that the entropy is a special case of the cross-entropy. Formally, $H(p) = H(p, p).$"
   ]
  },
  {
   "cell_type": "markdown",
   "metadata": {},
   "source": [
    "### KL divergence\n",
    "Now, it seems interesting to observe the difference\n",
    "$$H(p, q) - H(p, p) = H(p, q) - H(p)$$\n",
    "Intuitively, that difference means how does the entropy change if I change my beliefs of the probability distribution of the data from $q$ to $p$ (that is, from an arbitrary distribution $q$ to the real distribution $p.$)\n",
    "$$\n",
    "\\begin{align*}\n",
    "KL(p||q) &= H(p, q) - H(p, p) \\\\\n",
    "&= \\sum_{x_i} p(x_i) log\\frac{1}{q(x_i)} - \\sum_{x_i} p(x_i) log\\frac{1}{p(x_i)} \\\\\n",
    "&= \\sum_{x_i} p(x_i) \\bigg(log\\frac{1}{q(x_i)} - log\\frac{1}{p(x_i)} \\bigg) \\\\\n",
    "&= \\sum_{x_i} p(x_i) log\\frac{p(x_i)}{q(x_i)}\n",
    "\\end{align*}\n",
    "$$"
   ]
  },
  {
   "cell_type": "markdown",
   "metadata": {},
   "source": [
    "[Now we want to show that the cross entropy gets reduced the more similar p and q are]"
   ]
  },
  {
   "cell_type": "markdown",
   "metadata": {},
   "source": [
    "### Gibbs' inequality\n",
    "To understand the behavior of the KL divergence, let's look at the following two inequalities. \n",
    "\n",
    "First, we know that $ln(x) \\leq x - 1.$ A nice way to see this is that $f(x) = x - 1$ is tangent to $ln(x)$ at $x=1$ and $ln(x)$ is a convex function, so the line $x - 1$ will be always above $ln(x).$ [todo: prove that is convex]"
   ]
  },
  {
   "cell_type": "code",
   "execution_count": 42,
   "metadata": {},
   "outputs": [
    {
     "data": {
      "image/png": "[encoded data removed]",
      "text/plain": [
       "<matplotlib.figure.Figure at 0x7fc3275e4e80>"
      ]
     },
     "metadata": {},
     "output_type": "display_data"
    }
   ],
   "source": [
    "x = np.linspace(0.1, 3, 100)\n",
    "plt.plot(x, x - 1, label='x - 1')\n",
    "plt.plot(x, np.log(x), label='ln(x)')\n",
    "plt.legend()\n",
    "plt.grid()"
   ]
  },
  {
   "cell_type": "markdown",
   "metadata": {},
   "source": [
    "Now, we use that inequality\n",
    "$$\n",
    "\\begin{align*}\n",
    "\\sum_{x_i} p(x_i) log\\frac{p(x_i)}{q(x_i)} &= - \\sum_{x_i} p(x_i) log\\frac{q(x_i)}{p(x_i)} \\\\\n",
    "&\\geq - \\sum_{x_i} p(x_i) \\bigg(\\frac{q(x_i)}{p(x_i)} - 1\\bigg) \\\\\n",
    "&= - \\sum_{x_i} q(x_i) + \\sum_{x_i} p(x_i) \\\\\n",
    "&= 0 \\\\\n",
    "\\therefore KL(p||q) &\\geq 0\n",
    "\\end{align*}\n",
    "$$"
   ]
  },
  {
   "cell_type": "markdown",
   "metadata": {},
   "source": [
    "\n",
    "The inequality yields from the difference between\n",
    "$$f(p, q) = log\\frac{q(x_i)}{p(x_i)} \\ and \\  g(p, q) = \\frac{q(x_i)}{p(x_i)} - 1$$"
   ]
  },
  {
   "cell_type": "markdown",
   "metadata": {},
   "source": [
    "### Intuition behind the inequality\n",
    "When $q$ and $p$ are the same distribution, the difference between these two terms is zero, and the KL divergence is also zero. In general, the KL divergence is proportional to this difference. As you can see in the plot, the further away we are from $\\frac{q(x_i)}{p(x_i)} = 1$, the biggest the diference between $f$ (the log function) and $g$ (the line)."
   ]
  },
  {
   "cell_type": "markdown",
   "metadata": {},
   "source": [
    "So, minimizing the KL divergence directly minimizes the difference between $f$ and $g$, which in turn minimizes how further away $q$ is from being equal to $p$. \n",
    "\n",
    "The plot also expains why $KL(p||q)$ differs from $KL(q||p)$. Namely, the difference $d(p, q) = f(p, q) - g(p, q)$ doesn't fulfill d(p, q) != d(q, p). This happens because [textiño]\n",
    "\n",
    "We can visualize how KL(p, q)"
   ]
  },
  {
   "cell_type": "code",
   "execution_count": 43,
   "metadata": {},
   "outputs": [
    {
     "data": {
      "image/png": "[encoded data removed]",
      "text/plain": [
       "<matplotlib.figure.Figure at 0x7fc327b2fac8>"
      ]
     },
     "metadata": {},
     "output_type": "display_data"
    }
   ],
   "source": [
    "x = np.linspace(1/np.e, np.e, 100)\n",
    "plt.plot(x, x - 1, label='x - 1')\n",
    "plt.plot(x, np.log(x), label='ln(x)')\n",
    "plt.legend()\n",
    "plt.grid()"
   ]
  },
  {
   "cell_type": "markdown",
   "metadata": {},
   "source": [
    "Now say how minimizing the cross entropy is the same as minimizing the KL divergence.\n",
    "Also, is there any other function that makes the KL(p||q) = KL(q||p) we need to change the orange graph above."
   ]
  },
  {
   "cell_type": "markdown",
   "metadata": {},
   "source": [
    "# Explanation 2\n",
    "#### Source\n",
    "Almost all the ideas in explanation 2 are from http://colah.github.io/posts/2015-09-Visual-Information/. It's a very very good article. \n",
    "\n",
    "#### Channel\n",
    "Let's say there is a channel we use to send messages. Say we are building a system for a fancy coffee shop where the coffee sizes are \"mini, medium, big, XL.\" As we are in a very consumist city, the XL coffee gets asked more times and the medium less times. Say we encode each coffee size into a binary code. Then, medium could correspond to 01, big to 110 and so on. \n",
    "\n",
    "As in this channel we don't want to lose efficency by saying when a code starts and ends, we want a set of codes that are uniquely decodable. For instance, if we have the codes {01, 10} and we receive this string in the channel 101001 we can easily say that the string corresponds to first two instances of the second code and then one instance of the first code. However, if we have the codes {0, 01, 1} and we have the string 01, we don't know if it corresponds to the code 01 or the codes 0 and 1.\n",
    "\n",
    "#### Prefix property\n",
    "We can limit the codes we select in the following way: we don't select codes that have as prefix a code that we already have in our bag of codes. For instance, if we have the code 01, then we can't use 010, 011 or any other code starting with 01. [1] \n",
    "\n",
    "This requirement limits us to only having so many short codes, for if we have 0 and 1, we can't have more codes. For instance, if we need to have at least three codes, then we only can have one code of one bit. Each code removes a certain amount of codes proportional to how short it is: the shorter the code, the more codes it reduces.\n",
    "\n",
    "Let's say we have a budget of 1. Then if we use no codes at all, we consume all the budget at once. [2] Now, if we use the code 0, we consume half of the budget (because we no longer can use half of the codes.) Instead, if we use the code 01, we consume a quarter of the budget. In general, the amount we remove is $ C(x) = \\dfrac{1}{2^{L(x)}} $ with L(x) the length of the code x.\n",
    "\n",
    "#### Using the total cost\n",
    "It makes intuitive sense to use the total budget of 1. If we don't use it, we are having codes that can be shorter. For instance, the bag of codes {00, 01, 10} uses the 75% of the budget, because each code removes a quarter from the budget. In this case, the bag of codes {00, 01, 1} is better. "
   ]
  },
  {
   "cell_type": "markdown",
   "metadata": {},
   "source": [
    "### Two codes\n",
    "Now, we want to give the smaller codes to the messages we say the most (\"XL\") and longer codes to the messages we say the least (\"medium.\") But how small?\n",
    "\n",
    "An intuitive answer is using the budget in proportion to the probability of a message happening. Let's explore this opinion thinking only about a channel to convey two events: a and b.\n",
    "\n",
    "Say event a happens with probability $p(a)$ and b with $p(b).$ The codes we can use to convey this events have variable length. So, if I have to pay for the length of the string I send through the channel, the average payment for sending one code is\n",
    "\n",
    "$$\\sum_{m\\in\\{a, b\\}}p(m)L(m)$$ which is equivalent to the sum of the areas of the rectanglesin the drawing below."
   ]
  },
  {
   "cell_type": "raw",
   "metadata": {
    "hide_egal": false,
    "is_egal": true
   },
   "source": [
    "<svg height=\"250\" width=\"100%\"><desc>Created with Snap</desc><defs><filter id=\"Sjm553bj63\" filterUnits=\"userSpaceOnUse\"><feGaussianBlur in=\"SourceAlpha\" stdDeviation=\"3\"></feGaussianBlur><feOffset dx=\"0\" dy=\"2\" result=\"offsetblur\"></feOffset><feFlood flood-color=\"#000000\"></feFlood><feComposite in2=\"offsetblur\" operator=\"in\"></feComposite><feComponentTransfer><feFuncA type=\"linear\" slope=\"1\"></feFuncA></feComponentTransfer><feMerge><feMergeNode></feMergeNode><feMergeNode in=\"SourceGraphic\"></feMergeNode></feMerge></filter><marker viewBox=\"0 0 10 10\" markerWidth=\"10\" markerHeight=\"10\" orient=\"auto\" refX=\"9\" refY=\"3\" id=\"arrowEndMarker\"><polygon points=\"0,0,0,6,9,3,0,0\" fill=\"#323232\" id=\"arrow\" style=\"\"></polygon></marker><marker viewBox=\"0 0 10 10\" markerWidth=\"10\" markerHeight=\"10\" orient=\"auto\" refX=\"0\" refY=\"3\" id=\"arrowStartMarker\"><polygon points=\"0,3,9,0,9,6,0,3\" fill=\"#323232\" id=\"startArrow\" style=\"\"></polygon></marker><filter id=\"Sjm559von3\" filterUnits=\"userSpaceOnUse\"><feGaussianBlur in=\"SourceAlpha\" stdDeviation=\"3\"></feGaussianBlur><feOffset dx=\"0\" dy=\"2\" result=\"offsetblur\"></feOffset><feFlood flood-color=\"#000000\"></feFlood><feComposite in2=\"offsetblur\" operator=\"in\"></feComposite><feComponentTransfer><feFuncA type=\"linear\" slope=\"1\"></feFuncA></feComponentTransfer><feMerge><feMergeNode></feMergeNode><feMergeNode in=\"SourceGraphic\"></feMergeNode></feMerge></filter><marker viewBox=\"0 0 10 10\" markerWidth=\"10\" markerHeight=\"10\" orient=\"auto\" refX=\"9\" refY=\"3\" id=\"arrowEndMarker\"><polygon points=\"0,0,0,6,9,3,0,0\" fill=\"#323232\" id=\"arrow\" style=\"\"></polygon></marker><marker viewBox=\"0 0 10 10\" markerWidth=\"10\" markerHeight=\"10\" orient=\"auto\" refX=\"0\" refY=\"3\" id=\"arrowStartMarker\"><polygon points=\"0,3,9,0,9,6,0,3\" fill=\"#323232\" id=\"startArrow\" style=\"\"></polygon></marker><filter id=\"Sjm6qgqi43\" filterUnits=\"userSpaceOnUse\"><feGaussianBlur in=\"SourceAlpha\" stdDeviation=\"3\"></feGaussianBlur><feOffset dx=\"0\" dy=\"2\" result=\"offsetblur\"></feOffset><feFlood flood-color=\"#000000\"></feFlood><feComposite in2=\"offsetblur\" operator=\"in\"></feComposite><feComponentTransfer><feFuncA type=\"linear\" slope=\"1\"></feFuncA></feComponentTransfer><feMerge><feMergeNode></feMergeNode><feMergeNode in=\"SourceGraphic\"></feMergeNode></feMerge></filter><marker viewBox=\"0 0 10 10\" markerWidth=\"10\" markerHeight=\"10\" orient=\"auto\" refX=\"9\" refY=\"3\" id=\"arrowEndMarker\"><polygon points=\"0,0,0,6,9,3,0,0\" fill=\"#323232\" id=\"arrow\" style=\"\"></polygon></marker><marker viewBox=\"0 0 10 10\" markerWidth=\"10\" markerHeight=\"10\" orient=\"auto\" refX=\"0\" refY=\"3\" id=\"arrowStartMarker\"><polygon points=\"0,3,9,0,9,6,0,3\" fill=\"#323232\" id=\"startArrow\" style=\"\"></polygon></marker></defs><g id=\"drup_elem_1\" first-frame=\"1\" last-frame=\"1\" class=\"drupElem\"><rect x=\"152\" y=\"79.53125\" width=\"132\" height=\"73\" fill=\"#ff33ff\" stroke=\"#000000\" vector-effect=\"non-scaling-stroke\" style=\"stroke-width: 1;\" class=\"core alignable sub\" transform=\"matrix(1,0,0,1,0,1)\"></rect><circle cx=\"218\" cy=\"79.53125\" r=\"5\" stroke=\"#000000\" fill=\"#ffffff\" id=\"drup_elem_1_endpoint_0\" style=\"stroke-width: 1; opacity: 0;\" class=\"endPoint up sub\" transform=\"matrix(1,0,0,1,0,1)\"></circle><circle cx=\"218\" cy=\"152.53125\" r=\"5\" stroke=\"#000000\" fill=\"#ffffff\" id=\"drup_elem_1_endpoint_1\" style=\"stroke-width: 1; opacity: 0;\" class=\"endPoint down sub\" transform=\"matrix(1,0,0,1,0,1)\"></circle><circle cx=\"152\" cy=\"116.03125\" r=\"5\" stroke=\"#000000\" fill=\"#ffffff\" id=\"drup_elem_1_endpoint_2\" style=\"stroke-width: 1; opacity: 0;\" class=\"endPoint left sub\" transform=\"matrix(1,0,0,1,0,1)\"></circle><circle cx=\"284\" cy=\"116.03125\" r=\"5\" stroke=\"#000000\" fill=\"#ffffff\" id=\"drup_elem_1_endpoint_3\" style=\"stroke-width: 1; opacity: 0;\" class=\"endPoint right sub\" transform=\"matrix(1,0,0,1,0,1)\"></circle><circle cx=\"152\" cy=\"79.53125\" r=\"5\" stroke=\"#000000\" fill=\"#ffffff\" id=\"drup_elem_1_endpoint_4\" style=\"stroke-width: 1; opacity: 0;\" class=\"endPoint left-up sub\" transform=\"matrix(1,0,0,1,0,1)\"></circle><circle cx=\"152\" cy=\"152.53125\" r=\"5\" stroke=\"#000000\" fill=\"#ffffff\" id=\"drup_elem_1_endpoint_5\" style=\"stroke-width: 1; opacity: 0;\" class=\"endPoint left-down sub\" transform=\"matrix(1,0,0,1,0,1)\"></circle><circle cx=\"284\" cy=\"79.53125\" r=\"5\" stroke=\"#000000\" fill=\"#ffffff\" id=\"drup_elem_1_endpoint_6\" style=\"stroke-width: 1; opacity: 0;\" class=\"endPoint right-up sub\" transform=\"matrix(1,0,0,1,0,1)\"></circle><circle cx=\"284\" cy=\"152.53125\" r=\"5\" stroke=\"#000000\" fill=\"#ffffff\" id=\"drup_elem_1_endpoint_7\" style=\"stroke-width: 1; opacity: 0;\" class=\"endPoint right-down sub\" transform=\"matrix(1,0,0,1,0,1)\"></circle><text x=\"218\" y=\"117.03125\" data-src=\"$$S(a)$$\" style=\"font-size: 20px; text-anchor: middle; alignment-baseline: central;\" class=\"egal-label sub\">$$S(a)$$</text></g><g id=\"drup_elem_2\" first-frame=\"1\" last-frame=\"1\" class=\"drupElem\"><rect x=\"504\" y=\"83.53125\" width=\"194\" height=\"33\" fill=\"#00ff33\" stroke=\"#000000\" vector-effect=\"non-scaling-stroke\" style=\"stroke-width: 1;\" class=\"core alignable sub\" transform=\"matrix(1,0,0,1,3,1)\"></rect><circle cx=\"601\" cy=\"83.53125\" r=\"5\" stroke=\"#000000\" fill=\"#ffffff\" id=\"drup_elem_2_endpoint_0\" style=\"stroke-width: 1; opacity: 0;\" class=\"endPoint up sub\" transform=\"matrix(1,0,0,1,3,1)\"></circle><circle cx=\"601\" cy=\"116.53125\" r=\"5\" stroke=\"#000000\" fill=\"#ffffff\" id=\"drup_elem_2_endpoint_1\" style=\"stroke-width: 1; opacity: 0;\" class=\"endPoint down sub\" transform=\"matrix(1,0,0,1,3,1)\"></circle><circle cx=\"504\" cy=\"100.03125\" r=\"5\" stroke=\"#000000\" fill=\"#ffffff\" id=\"drup_elem_2_endpoint_2\" style=\"stroke-width: 1; opacity: 0;\" class=\"endPoint left sub\" transform=\"matrix(1,0,0,1,3,1)\"></circle><circle cx=\"698\" cy=\"100.03125\" r=\"5\" stroke=\"#000000\" fill=\"#ffffff\" id=\"drup_elem_2_endpoint_3\" style=\"stroke-width: 1; opacity: 0;\" class=\"endPoint right sub\" transform=\"matrix(1,0,0,1,3,1)\"></circle><circle cx=\"504\" cy=\"83.53125\" r=\"5\" stroke=\"#000000\" fill=\"#ffffff\" id=\"drup_elem_2_endpoint_4\" style=\"stroke-width: 1; opacity: 0;\" class=\"endPoint left-up sub\" transform=\"matrix(1,0,0,1,3,1)\"></circle><circle cx=\"504\" cy=\"116.53125\" r=\"5\" stroke=\"#000000\" fill=\"#ffffff\" id=\"drup_elem_2_endpoint_5\" style=\"stroke-width: 1; opacity: 0;\" class=\"endPoint left-down sub\" transform=\"matrix(1,0,0,1,3,1)\"></circle><circle cx=\"698\" cy=\"83.53125\" r=\"5\" stroke=\"#000000\" fill=\"#ffffff\" id=\"drup_elem_2_endpoint_6\" style=\"stroke-width: 1; opacity: 0;\" class=\"endPoint right-up sub\" transform=\"matrix(1,0,0,1,3,1)\"></circle><circle cx=\"698\" cy=\"116.53125\" r=\"5\" stroke=\"#000000\" fill=\"#ffffff\" id=\"drup_elem_2_endpoint_7\" style=\"stroke-width: 1; opacity: 0;\" class=\"endPoint right-down sub\" transform=\"matrix(1,0,0,1,3,1)\"></circle><text x=\"604\" y=\"101.03125\" data-src=\"$$S(b)$$\" style=\"font-size: 20px; text-anchor: middle; alignment-baseline: central;\" class=\"egal-label sub\">$$S(b)$$</text></g><g id=\"drup_elem_3\" first-frame=\"1\" last-frame=\"1\" class=\"drupElem\"><text x=\"107\" y=\"128.53125\" class=\"core alignable sub egal-label\" style=\"text-anchor: middle; alignment-baseline: central; font-size: 20px;\" data-src=\"p(a)\" transform=\"matrix(1,0,0,1,18,-16)\">p(a)</text></g><g id=\"drup_elem_4\" first-frame=\"1\" last-frame=\"1\" class=\"drupElem\"><text x=\"434\" y=\"118.53125\" class=\"core alignable sub egal-label\" style=\"text-anchor: middle; alignment-baseline: central; font-size: 20px;\" data-src=\"p(b)\" transform=\"matrix(1,0,0,1,41,-16)\">p(b)</text></g><g id=\"drup_elem_5\" first-frame=\"1\" last-frame=\"1\" class=\"drupElem\"><text x=\"186\" y=\"199.53125\" class=\"core alignable sub egal-label\" style=\"text-anchor: middle; alignment-baseline: central; font-size: 20px;\" data-src=\"L(a)\" transform=\"matrix(1,0,0,1,28,-29)\">L(a)</text></g><g id=\"drup_elem_6\" first-frame=\"1\" last-frame=\"1\" class=\"drupElem\"><text x=\"577\" y=\"123.53125\" class=\"core alignable sub egal-label\" style=\"text-anchor: middle; alignment-baseline: central;\"></text></g><g id=\"drup_elem_7\" first-frame=\"1\" last-frame=\"1\" class=\"drupElem\"><text x=\"612\" y=\"119.53125\" class=\"core alignable sub egal-label\" style=\"text-anchor: middle; alignment-baseline: central;\"></text></g><g id=\"drup_elem_8\" first-frame=\"1\" last-frame=\"1\" class=\"drupElem\"><text x=\"600\" y=\"138.53125\" class=\"core alignable sub egal-label\" style=\"text-anchor: middle; alignment-baseline: central; font-size: 20px;\" data-src=\"L(b)\">L(b)</text></g></svg>"
   ]
  },
  {
   "cell_type": "markdown",
   "metadata": {},
   "source": [
    "Figure 1"
   ]
  },
  {
   "cell_type": "markdown",
   "metadata": {},
   "source": [
    "So, the overarching question resides in how long are the messages $L(a)$ and $L(b).$ We said that a reasonable approach is to define the cost proportionally to the probabilities. So the probabilities define the cost. And also we know that the cost defines the length. \n",
    "\n",
    "To show that this definition for the length is optimal, let's show that it doesn't make sense to change the lengths if they are proportional to the probabilities and it does make sense to change them if they aren't. (We will use base $e$ in this proof instead of base $2.$)\n",
    "\n",
    "#### Lengths proportional to probabilities\n",
    "Let's call S(a) to the contribution of p(a) to the average payment and S(b) to that of p(b) (see drawing.) By seeing the rectangles we note the following two derivatives.\n",
    "$$\n",
    "\\frac{dS(x)}{dL(x)} = p(x)\n",
    "$$\n",
    "\n",
    "Now, recall that we have a limited budget of 1. The cost for a given length of a code is given by \n",
    "$$C(x) = \\frac{1}{e^{L(x)}} = e^{-L(x)} $$\n",
    "Also, the definition of the cost proportional to the probabilities means that \n",
    "$$\n",
    "C(x) = p(x) \\\\\n",
    "\\frac{dC(x)}{dL(x)} = -e^{-L(x)} = -C(x) = -p(x)\n",
    "$$\n",
    "This means that if we slightly increase $L(x)$, $C(x)$ decreases proportionally to $p(x)dL(x)$ (with $dL(x)$ being the infinitesimal operator.)\n",
    "\n",
    "Now,\n",
    "$$\n",
    "\\begin{align*}\n",
    "C(x) &= \\frac{1}{e^{L(x)}} \\\\\n",
    "e^{L(x)} &= \\frac{1}{C(X)} \\\\\n",
    "L(x) &= log\\frac{1}{C(X)} \\\\\n",
    "\\frac{dL(x)}{dC(x)} &= -\\frac{1}{C(x)} = -\\frac{1}{p(x)} \\\\\n",
    "\\end{align*}\n",
    "$$\n",
    "\n",
    "Now,\n",
    "$$\\frac{dS(x)}{dC(x)} = \\frac{dS(x)}{dL(x)} \\cdot \\frac{dL(x)}{dC(x)} = p(x) \\cdot -\\frac{1}{p(x)} = -1 $$\n",
    "\n",
    "Interestingly, this applies both to $a$ and $b$ so if we spend $k$ more of our budget in $L(a)$ (the code for $a$) $S(a)$ (the contribution to the average payment for $a$) will get reduced by $k.$\n",
    "\n",
    "The thing is that if we spend $k$ more on $a,$ then we have to spend $k$ less on $b.$ And now $S(b)$ will get increased by $k.$ In my mind, this seems as a local optima. "
   ]
  },
  {
   "cell_type": "markdown",
   "metadata": {},
   "source": [
    "#### Length not proportional to the probabilities\n",
    "Let's say we are a little bit off in our assignments for C(x). Namely,\n",
    "$$\n",
    "C(a) = P(a) + \\epsilon \\\\\n",
    "C(b) = P(b) - \\epsilon \\\\\n",
    "$$\n",
    "\n",
    "Again, we are interested in $\\frac{dS(x)}{dC(x)}.$ We know that $\\frac{dS(x)}{dL(x)}$ remains the same. But now\n",
    "$$\n",
    "\\begin{align*}\n",
    "\\frac{dL(a)}{dC(a)} &= -\\frac{1}{C(a)} = -\\frac{1}{p(a) + \\epsilon} \\\\\n",
    "\\frac{dL(b)}{dC(b)} &= -\\frac{1}{C(b)} = -\\frac{1}{p(b) - \\epsilon} \\\\\n",
    "\\end{align*}\n",
    "$$\n",
    "Thus, \n",
    "$$\n",
    "\\begin{align*}\n",
    "\\frac{dS(a)}{dC(a)} &= -\\frac{p(a)}{p(a) + \\epsilon} < 1 \\\\\n",
    "\\frac{dS(b)}{dC(b)} &= -\\frac{p(b)}{p(b) - \\epsilon} > 1 \\\\\n",
    "\\end{align*}\n",
    "$$\n",
    "Now, if we spend $k$ of our budget on $p(b),$ the average contribution will get reduced by $l_1 = k\\frac{p(b)}{p(b) - \\epsilon}.$ We have the requirement that $0 < k < \\epsilon.$ Now we need to borrow this cost from $a$. For $a$ this means that the average contribution will increase by $l_2 = k\\frac{p(a)}{p(a) + \\epsilon}.$ We can see that $l_2 < l_1,$ this implies that the average payment will get reduced more than what it increases! And this will happen until $\\epsilon = 0.$ Thus, we just showed that for two codes, the optimal budget for each code is to make them proportional to their probability of happening."
   ]
  },
  {
   "cell_type": "markdown",
   "metadata": {},
   "source": [
    "#### More than two codes\n",
    "A similar reasoning applies to a bag that has more than two codes. We start with eqach code with the allocated budget equal to its probability of happening. If some code has a bigget budget than its probability of happening, it means there is at least one other code that has a smaller budget. As we showed before, it makes sense to remove budget from the former code and give it to the latter."
   ]
  },
  {
   "cell_type": "markdown",
   "metadata": {},
   "source": [
    "### Entropy\n",
    "To recap, we showed that the optimal length $L(\\cdot)$ of a message $x$ is $L(x) = log \\frac{1}{p(x)}.$ This is optimal in the sense that it assures us that the average length of the code we send is the smallest possible. We call entropy to this optimal encoding. [3]\n",
    "\n",
    "$$H(p) = \\sum_x p(x)L(x) = \\sum_x p(x) log \\frac{1}{p(x)}$$\n",
    "\n",
    "Recall that this measure is the same we depicted in Figure 1. \n",
    "\n",
    "### Cross entropy\n",
    "Now, if we use the optimal encoding for a probability distribution $p(\\cdot)$ but how often we send each type of message is determined by $q(\\cdot)$, we have the cross entropy.\n",
    "$$H_q(p) = \\sum_x q(x)L(x) = \\sum_x q(x) log \\frac{1}{p(x)}$$\n",
    "\n",
    "### KL divergence\n",
    "We can make sense of the cross entropy by looking at the difference between the cross entropy and the entropy\n",
    "\n",
    "$$\n",
    "\\begin{align*}\n",
    "D_q(p) &= H_p(q) - H(p) \\\\\n",
    "&= \\sum_x p(x) log \\frac{1}{q(x)} - \\sum_x p(x) log \\frac{1}{p(x)} \\\\\n",
    "&= \\sum_x p(x) \\Big( log \\frac{1}{q(x)} - log \\frac{1}{p(x)} \\Big) \\tab\\tab\\tab\\tab\\tab (1) \\\\\n",
    "&= \\sum_x p(x) log \\frac{p(x)}{q(x)} \\\\\n",
    "\\end{align*}\n",
    "$$\n",
    "\n",
    "Notice (1). We are calculating the difference between the length of a message using the optimal encoding given by $p$ and the encoding given by $q.$ [4]"
   ]
  },
  {
   "cell_type": "markdown",
   "metadata": {},
   "source": [
    "### Appendix A: reality model in our brain.\n",
    "#### Learning or unlearning\n",
    "Being surprised means that your expectations were different from what happened. In other words, your internal model of the reality failed in predicting something. And that's either learning or unlearning. Either your model of the world gets more accurate or it gets less accurate. \n",
    "\n",
    "This implies that you need to get surprised to learn. Interestingly, being surprised doesn't mean learning. You can start with a correct model of the world, and then someone tells us that the world behaves in a different way. You get surprised and unlearn at the same time.\n",
    "\n",
    "If we model learning as getting nearer to the correct model of the world, then it seems easier to learn than to unlearn. That happens because if you are learning the correct model of the world, then the evidence will tell you that you are fine. Instead, if you pass from an accurate model to a less accurate one, you will notice that there are contradictions. That could imply the difficulty in progress to be backward and the ease to be forward.\n",
    "\n",
    "#### Interesting\n",
    "For something to be interesting, I think it requires surprises. How something can be interesting if you already knew it?\n",
    "\n",
    "But if something is surprising it isn't necessary interesting. For instance, guess the next number in this series 1, 2, 3, 4, _.\n",
    "\n",
    "The answer is 9. Yeah, that's surprising. But it isn't useful. You need to care about what you are modeling. And you probably don't care at all about the task category \"arbitrary series from a random person.\" I think we care about a subset of all the possible tasks in the universe. It has been shown that if we care about every possible task, then even the best algorithm will perform just the same as by chance. So, we only care about task that are in a given subset.\n",
    "\n",
    "In some sense, we want a neural net to follow its \"interests,\" because that means it's being surprised (requirement for learning) and it's working on something it cares (the subset of the problems we mentioned early.) \n",
    "\n",
    "#### General problem solver\n",
    "It's interesting how evolution came up with a pretty general problem solver (our brain) as the fittest indivuals. It seems as if the tasks of nature are better solved by an individual with general intelligence than a narrow one. The fact that we can do math with our brain is remarkable. That evolution made us general problem solver could be a (weak) proof that even for solving a subset of tasks it's better to use general than narrow intelligence. [5]\n",
    "\n",
    "#### Summary\n",
    "* reality differs from predictions <=> surprising\n",
    "* (surprising and caring) <=> interesting\n",
    "* learning requires surprises\n",
    "\n",
    "#### Notes\n",
    "[1] Although this property is enough, maybe we need less. For instance, if we have the bag of codes {0, 01} and we have the string 001, there is only one way of decoding this string. It turns out the bag of codes {0, 01} fulfills the suffix property (the same as the prefix property but backwards.) Now, I think that if a bag of codes doesn't fulfill the prefix nor the sufix property, then it isn't in uniquely decodable (eg, the string 010 made with this bag of codes {0, 01, 10} isn't uniquely decodable because it could be 0-10 or 01-0.) (I don't have a formal proof for this.)  \n",
    "\n",
    "[2] This case is interesting; it means the same message is being conveyed at all times, so the length of the message is zero. (That happens because the listener always knows what's going to receive.)\n",
    "\n",
    "[3] It's pretty interesting that the $log(\\frac{1}{p(x)})$ appears both for an intuitive measure of information and for the optimal encoding through a channel.\n",
    "\n",
    "[4] When I was trying to understand KL divergence, it surprised me how the definition of KL divergence managed to be always positive, for $log\\frac{p(x)}{q(x)}$ is sometimes positive and sometimes negative. The answer to the puzzle is that even if for some codes $q$ has a smaller encoding than $p,$ taking into account all the codes $p$ has shorter codes. \n",
    "\n",
    "[5] However, it's clear that we have some specialization. For instance, we are very good dealing with 3D spaces (hence, intuitive visualization using geometry and memory techniques using pictures.) Also, how can we define how much we generalize? We don't have something to compare with.  "
   ]
  }
 ],
 "metadata": {
  "kernelspec": {
   "display_name": "Python 3",
   "language": "python",
   "name": "python3"
  },
  "language_info": {
   "codemirror_mode": {
    "name": "ipython",
    "version": 3
   },
   "file_extension": ".py",
   "mimetype": "text/x-python",
   "name": "python",
   "nbconvert_exporter": "python",
   "pygments_lexer": "ipython3",
   "version": "3.6.7"
  }
 },
 "nbformat": 4,
 "nbformat_minor": 2
}
