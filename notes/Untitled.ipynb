{
 "cells": [
  {
   "cell_type": "markdown",
   "metadata": {},
   "source": [
    "Attack:\n",
    "We select the perturbation as follows\n",
    "$argmax_{\\hat x \\in B_\\epsilon(x)} max_i f^{iy}(\\hat x)$\n",
    "$B_\\epsilon(x)$ gives us all the $\\hat x$ where the $L_\\infty$ norm between x and $\\hat x$ is less than $\\epsilon.$ That means the difference in every entry of the vector is at most $\\epsilon.$\n",
    "$f^{ij}(x) = f^i(x) - f^j(x)$\n",
    "$f^i(x) =$ score for class i.\n",
    "\n",
    "\n",
    "$L_\\infty$ norm of vector x: argmax(x)"
   ]
  }
 ],
 "metadata": {
  "kernelspec": {
   "display_name": "Python 3",
   "language": "python",
   "name": "python3"
  },
  "language_info": {
   "codemirror_mode": {
    "name": "ipython",
    "version": 3
   },
   "file_extension": ".py",
   "mimetype": "text/x-python",
   "name": "python",
   "nbconvert_exporter": "python",
   "pygments_lexer": "ipython3",
   "version": "3.6.7"
  }
 },
 "nbformat": 4,
 "nbformat_minor": 2
}
