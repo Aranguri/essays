{
 "cells": [
  {
   "cell_type": "markdown",
   "metadata": {},
   "source": [
    "## Reading notes\n",
    "### https://cs.stanford.edu/people/dorarad/mac/blog.html\n",
    "A neural network learns a direct mapping from input to output, but lacks a good understanding of that mapping. If we change some details in the input, it doesn't work anymore.\n",
    "\n",
    "Three units\n",
    "* input unit: create a good distributed representation. For words: first we translate to word-embeddings, then we translate we add context to each word.\n",
    "* recurrent unit:\n",
    "    * Control: \n",
    "        * we want to extract the desired operation. We need to keep track of the past operation, because that seems to help in doing long-term processing. Also, we want to see the global task we are trying to solve. In a QA task, we want to see the whole text of a question. So the first operation is to combine the past operation c_{i-1} with the whole text of the question, biased towards step i. This tells us what operation we are trying to do.\n",
    "        * Then, we change the basis of the result from above to a linear combination of the words in the question. This acts as a regularizer (and it's also helpful for interpretability.) (A valid output from this unit could be: actual object := object that is to the right of the actual object. Another could be to create a new identity, object2 := object that has the same color as object1. .)\n",
    "    * Read:\n",
    "        * we want to retrieve selectively from our knowledge base and the memory from the last iteration. Thus, we attend the knowledge base based on (a) the knowledge base, (b) control output, (c) previous memory output.\n",
    "        * steps\n",
    "            * To do this, we compute the interaction between the knowledge base and the previous memory output to see if there are things that are important from the knowledge base in light of the previous memory output.\n",
    "            * Then, we concatenate the result of that interaction with the knowledge base, to have a fresh version of the kb if the task requires it.\n",
    "            * Then, we concatenate the (interaction + kb) with the control output. Then we pass that information through a neural net to decide the attention weights on the kb. \n",
    "        * in other words, we input a neural net (a) the kb, (b) the interaction of kb and previous memory, and (c) the control output. Then, that nn decides what to look at the kb.\n",
    "    * Write\n",
    "        * we already computed the new bit of memory r_i in the read unit. However, we would lose information if we just keep r_i. That's why we use the write unit. We want to integrate the new r_i bit of memory with the previous memory, and remain in the same space. That means we need at least one gate \n",
    "        * steps\n",
    "            * we know what we want to combine: the whole memory so far and the new bit of memory. Thus, we concatenate both things and pass the result through a nn.\n",
    "            * self-attention: we compute the similarity between the actual control bit and all the previous control bits. We take that distribution and then we create the weighted average of the memory bits (thus, we will give more importance to the memory bits that had similar control bit to our actual control bit.) Then, we concatenate that average to m_i^{prev} and pass it through a nn. (Why isn't it enough to concatenate them? Possible answer: we want a better representation of the data.)\n",
    "            * what if we don't need so many steps? We have a gate that conditioned on the control unit, we can just let the previous memory go through without interacting with all the computed so far. (useful if our task is simple and to avoid vanishing gradients.)\n",
    "          \n",
    "* output unit\n",
    "\n",
    "{TODO: try visualizing the value of the gate in the write unit. does it saturate to 0 or 1, or it tends to be between 0.3 and 0.7?}\n",
    "{TODO: think/try of models that are recursive, so we can invoke (poke) a new set of reasoning units while are are in the origin sequence of processing. }\n",
    "{TODO: I think that the kb here is small. It gets interesting when you have much more information. The problem there seems to be accessing it (attention is inefficient.) So we can try recursion or other methods.}\n",
    "\n",
    "We have four basic operations\n",
    "* Concatenation(x, y): it doesn't add interactions. \n",
    "* Feedfoward_NN(x): computes a better representation of x  \n",
    "* Elementwise product(x, y): measures the interaction between x and y\n",
    "* Attention(a, x): computes a weighted version of x. \n",
    "\n",
    "Everything is differentiable!\n",
    "* softmax: argmax\n",
    "* softmax with values powered: argmax \n",
    "* gates / k * f + (1 - k) * g: logical or?\n",
    "\n",
    "### https://arxiv.org/pdf/1410.5401.pdf\n",
    "Addressing mechanisms\n",
    "* Content-based memories (like hopfield networks): the controller produces an approximation of the memory and compares it with the storage to recover the exact memory. \n",
    "* Location-based memories: the content of the memory can be arbitrary. For instance, if we want to calculate the multiplying operation, the two numbers we multiply are arbitrary.\n",
    "Implementation of memory\n",
    "* Content-based: compute the cosine similarity between the actual memory and the memory we want to retrive. Then, we apply a softmax over all the similarities.\n",
    "* Location-based:\n",
    "    * gate: before going to the location-based memory, we apply a gate in the content-based memory we just generated. This allows us to\n",
    "        * Erase content-based memory: we can apply a shift in the previous memory, $w_{t-1}$\n",
    "        * Keep content-based memory: we can apply a shift in the content-based memory\n",
    "        * Don't shift: we get the content-based working on its own\n",
    "    * shift: the controller defines a shift vector, $s_t.$ Then, for each element $w_t(i)$ in the memory we go through every element $w^g_t(j)$ and we add accordingly to $s_t(i - j).$ What does the $i - j$ mean? It means that the first element in $s_t$ corresponds to a shift of zero (ie when i == j.) If we go to the right of $s_t$, we have the shifts 1, 2, ..., and if we go the left, we have the shifts -1, -2, ...\n",
    "    * softmax: the shift may disperse the weights, so we apply a softmax. (we potentiate the values before applying softmax so as to make the weights sharper)\n",
    "\n",
    "#### https://arxiv.org/pdf/1807.08518.pdf\n",
    "Controller:\n",
    "* either a feedforward or a recurrent nn\n",
    "* it outputs b, \n",
    "\n",
    "Next: Graves et al. (2014; 2016) cosine similarity\n",
    "Recursion on hopfield nets"
   ]
  },
  {
   "cell_type": "markdown",
   "metadata": {},
   "source": [
    "# FUR-THER things to try\n",
    "if it's accessing memory, then it shouldn't matter what we put in the memory. As a test of generalizing, change the range (and distribution) of the values that we store in the memory.\n",
    "\n",
    "interestinggg: merging memories. does humans retrieve two memories at the same time, merged? or we just have only one defined memory? (this is similar to that feeling at night I have of having two thoughts at the same time)"
   ]
  },
  {
   "cell_type": "code",
   "execution_count": 207,
   "metadata": {},
   "outputs": [
    {
     "name": "stdout",
     "output_type": "stream",
     "text": [
      "0 43180.6\n",
      "1000 46178.6\n",
      "2000 46513.8\n",
      "3000 47603.4\n",
      "4000 47218.4\n",
      "5000 40797.1\n",
      "6000 42827.5\n",
      "7000 39856.1\n",
      "8000 39864.6\n",
      "9000 38283.8\n",
      "10000 35407.6\n",
      "11000 32301.5\n",
      "12000 23914.9\n",
      "13000 25485.7\n",
      "14000 23969.8\n",
      "15000 24184.2\n",
      "16000 21796.7\n",
      "17000 19237.3\n",
      "18000 17831.6\n",
      "19000 16299.8\n",
      "20000 15451.5\n",
      "21000 13484.4\n",
      "22000 12397.1\n",
      "23000 11053.8\n",
      "24000 10432.8\n",
      "25000 10155.0\n",
      "26000 9724.44\n",
      "27000 9156.54\n",
      "28000 8196.39\n",
      "29000 7579.75\n",
      "30000 7567.11\n",
      "31000 7250.96\n",
      "32000 6539.86\n",
      "33000 5923.69\n",
      "34000 5563.17\n",
      "35000 6014.17\n",
      "36000 5222.46\n",
      "37000 4023.24\n",
      "38000 4242.98\n",
      "39000 3686.8\n",
      "40000 3047.22\n",
      "41000 3203.97\n",
      "42000 2760.53\n",
      "43000 2499.34\n",
      "44000 2152.76\n",
      "45000 1758.66\n",
      "46000 1426.72\n",
      "47000 1577.73\n",
      "48000 1775.66\n",
      "49000 1699.91\n",
      "50000 1629.29\n",
      "51000 1902.95\n",
      "52000 1785.68\n",
      "53000 1729.49\n",
      "54000 1524.53\n",
      "55000 1106.17\n",
      "56000 811.427\n",
      "57000 677.772\n",
      "58000 566.555\n",
      "59000 960.115\n",
      "60000 1273.38\n",
      "61000 1168.26\n",
      "62000 1165.06\n",
      "63000 1490.79\n",
      "64000 1276.25\n",
      "65000 1259.84\n",
      "66000 1072.07\n",
      "67000 590.49\n",
      "68000 573.031\n",
      "69000 452.164\n",
      "70000 889.243\n",
      "71000 1116.13\n",
      "72000 910.614\n",
      "73000 1030.61\n",
      "74000 1120.61\n",
      "75000 1186.36\n",
      "76000 1380.55\n",
      "77000 1087.94\n",
      "78000 895.065\n",
      "79000 593.01\n",
      "80000 401.641\n",
      "81000 380.777\n",
      "82000 766.83\n",
      "83000 970.134\n",
      "84000 1077.59\n",
      "85000 988.758\n",
      "86000 1259.53\n",
      "87000 1254.35\n",
      "88000 1152.72\n",
      "89000 963.766\n",
      "90000 682.876\n",
      "91000 474.682\n",
      "92000 371.769\n",
      "93000 1037.85\n",
      "94000 955.405\n",
      "95000 1054.57\n",
      "96000 972.028\n",
      "97000 1071.4\n",
      "98000 1136.39\n",
      "99000 1140.02\n"
     ]
    }
   ],
   "source": [
    "import tensorflow as tf\n",
    "import numpy as np\n",
    "\n",
    "def binary_to_int(bitlist):\n",
    "    out = 0\n",
    "    for bit in bitlist:\n",
    "        out = (out << 1) | bit\n",
    "    return out\n",
    "\n",
    "batch_size = 128\n",
    "input_length = 4\n",
    "memory_length = 16\n",
    "learning_rate = 1e-4\n",
    "train_size = 500\n",
    "\n",
    "ms = np.random.randint(0, 1000, size=(memory_length, 1)) \n",
    "xs = np.random.randint(0, 2, size=(train_size, input_length))\n",
    "ys = [ms[binary_to_int(xi)] for xi in xs]\n",
    "\n",
    "tf.reset_default_graph()\n",
    "x = tf.placeholder(tf.float32, [batch_size, input_length])\n",
    "y = tf.placeholder(tf.float32, [batch_size, 1])\n",
    "m = tf.placeholder(tf.float32, [memory_length, 1])\n",
    "w = tf.Variable(tf.random_normal((input_length, memory_length), stddev=.1))\n",
    "b = tf.Variable(tf.zeros((memory_length)))\n",
    "\n",
    "a = tf.nn.softmax(tf.matmul(x, w) + b)\n",
    "out = tf.tensordot(a, m, 1)\n",
    "\n",
    "loss = tf.losses.mean_squared_error(y, out)\n",
    "optimizer = tf.train.AdamOptimizer(learning_rate=learning_rate)\n",
    "minimize = optimizer.minimize(loss)\n",
    "\n",
    "tr_loss, n = {}, 0\n",
    "with tf.Session() as sess:\n",
    "    sess.run(tf.global_variables_initializer())\n",
    "    for i in range(100000):\n",
    "        #Comment line below for section 1\n",
    "        #if i % 1000 == 0:\n",
    "        #    ms = np.random.randint(0, 1000, size=(16, 1))\n",
    "        x_batch = xs[n:n + batch_size]\n",
    "        y_batch = np.array(ys[n:n + batch_size]).reshape(-1, 1)    \n",
    "        n = (n + batch_size) % (train_size - batch_size)\n",
    "        tr_loss[i], _ = sess.run([loss, minimize], feed_dict={x: x_batch, y: y_batch, m: ms})\n",
    "        if i % 1000 == 0: print(i, tr_loss[i])\n",
    "    w_final, b_final = sess.run([w, b])"
   ]
  },
  {
   "cell_type": "markdown",
   "metadata": {},
   "source": [
    "# Section 1: no dynamic memory"
   ]
  },
  {
   "cell_type": "code",
   "execution_count": 134,
   "metadata": {},
   "outputs": [
    {
     "name": "stdout",
     "output_type": "stream",
     "text": [
      "MSE: 2432.60380228\n",
      "Correlation [ 6134851.65430207]\n"
     ]
    },
    {
     "data": {
      "image/png": "[encoded data removed]",
      "text/plain": [
       "<matplotlib.figure.Figure at 0x7f7d3416cb70>"
      ]
     },
     "metadata": {},
     "output_type": "display_data"
    }
   ],
   "source": [
    "import matplotlib.pyplot as plt\n",
    "\n",
    "softargmax = lambda x: np.exp(x - max(x)) / sum(np.exp(x - max(x)))\n",
    "\n",
    "def int_to_binary(n):\n",
    "    return [int(digit) for digit in bin(n)[2:]]\n",
    "\n",
    "def plot_preds():\n",
    "    pred = np.zeros((16,))\n",
    "    for i in range(16):\n",
    "        bits = int_to_binary(i)\n",
    "        bits = np.pad(bits, (4 - len(bits), 0), 'constant', constant_values=(0, 0)) # add remainign bits)\n",
    "        v = softargmax(np.dot(bits, w_final) + b_final)\n",
    "        pred[i] = v.dot(ms)\n",
    "\n",
    "    real = [ms[i][0] for i in range(16)]\n",
    "    print('MSE:', np.sum(np.square(pred - real)))\n",
    "    print('Correlation', np.correlate(pred, real))\n",
    "    plt.scatter(np.arange(16), pred)\n",
    "    plt.scatter(np.arange(16), real)\n",
    "\n",
    "plot_preds()"
   ]
  },
  {
   "cell_type": "markdown",
   "metadata": {},
   "source": [
    "Nicy, huh? Based on the results above, it seems it learned to answer questions regarding the value of the memory. Now, did it really learned to look up at the memory, or it just has the hardcoded values? We can answer our question changing the values of our memory."
   ]
  },
  {
   "cell_type": "code",
   "execution_count": 216,
   "metadata": {},
   "outputs": [
    {
     "name": "stdout",
     "output_type": "stream",
     "text": [
      "0 [8, 12, 2, 9, 4, 14, 13, 3, 15, 10, 7, 1, 11, 6, 5, 0]\n",
      "1 [3, 12, 6, 5, 8, 11, 14, 2, 9, 4, 13, 7, 1, 10, 15, 0]\n",
      "2 [3, 11, 15, 6, 9, 13, 12, 14, 2, 10, 5, 8, 7, 4, 0, 1]\n",
      "3 [3, 6, 11, 12, 5, 15, 9, 14, 8, 13, 2, 10, 7, 4, 0, 1]\n",
      "4 [1, 9, 5, 11, 13, 10, 2, 8, 7, 4, 15, 12, 14, 3, 0, 6]\n",
      "5 [5, 1, 11, 9, 3, 12, 6, 8, 13, 10, 7, 2, 14, 4, 15, 0]\n",
      "6 [11, 9, 5, 1, 3, 15, 13, 10, 2, 6, 7, 14, 12, 4, 0, 8]\n",
      "7 [5, 11, 3, 9, 6, 12, 1, 15, 13, 10, 2, 7, 14, 8, 0, 4]\n",
      "8 [8, 1, 15, 6, 5, 12, 2, 4, 9, 10, 14, 13, 7, 3, 11, 0]\n",
      "9 [8, 6, 5, 1, 12, 3, 15, 11, 14, 2, 9, 4, 10, 7, 13, 0]\n",
      "10 [15, 6, 8, 11, 1, 3, 5, 9, 12, 2, 13, 14, 10, 7, 4, 0]\n",
      "11 [6, 3, 5, 8, 15, 11, 12, 1, 9, 14, 2, 13, 10, 7, 0, 4]\n",
      "12 [1, 5, 8, 9, 15, 11, 6, 10, 13, 2, 7, 4, 12, 0, 14, 3]\n",
      "13 [1, 5, 8, 6, 11, 9, 12, 15, 3, 10, 13, 7, 2, 4, 14, 0]\n",
      "14 [1, 5, 11, 15, 9, 6, 8, 3, 13, 10, 2, 7, 12, 0, 14, 4]\n",
      "15 [5, 6, 1, 11, 3, 15, 8, 9, 12, 13, 10, 2, 7, 0, 14, 4]\n"
     ]
    }
   ],
   "source": [
    "argmaxs = np.zeros((16,))\n",
    "for i in range(16):\n",
    "    bits = int_to_binary(i)\n",
    "    bits = np.pad(bits, (4 - len(bits), 0), 'constant', constant_values=(0, 0)) # add remainign bits)\n",
    "    print(i, list(reversed(np.argsort(np.dot(bits, w_final) + b_final))))"
   ]
  },
  {
   "cell_type": "code",
   "execution_count": 182,
   "metadata": {},
   "outputs": [
    {
     "name": "stdout",
     "output_type": "stream",
     "text": [
      "MSE: 2394604.2156\n",
      "Correlation [ 4859359.04562399]\n"
     ]
    },
    {
     "data": {
      "image/png": "[encoded data removed]",
      "text/plain": [
       "<matplotlib.figure.Figure at 0x7f7d2d966a58>"
      ]
     },
     "metadata": {},
     "output_type": "display_data"
    }
   ],
   "source": [
    "ms = np.random.randint(0, 1000, size=(16, 1))\n",
    "plot_preds()"
   ]
  },
  {
   "cell_type": "markdown",
   "metadata": {},
   "source": [
    "It seems there could be some correlation. First, let's visualize two random set of 15 points to understand whether we have something in the plot above or not. Second, let's try the neural net with changes in memory, so it can generalize to cases like the one above."
   ]
  },
  {
   "cell_type": "code",
   "execution_count": 183,
   "metadata": {},
   "outputs": [
    {
     "name": "stdout",
     "output_type": "stream",
     "text": [
      "MSE: 2948643\n",
      "Correlation [4222769]\n"
     ]
    },
    {
     "data": {
      "image/png": "[encoded data removed]",
      "text/plain": [
       "<matplotlib.figure.Figure at 0x7f7d2d921e80>"
      ]
     },
     "metadata": {},
     "output_type": "display_data"
    }
   ],
   "source": [
    "pred = np.random.randint(0, 1000, size=(16))\n",
    "real = np.random.randint(0, 1000, size=(16))\n",
    "plt.scatter(np.arange(16), pred)\n",
    "plt.scatter(np.arange(16), real)\n",
    "print('MSE:', np.sum(np.square(pred - real)))\n",
    "print('Correlation', np.correlate(pred, real))"
   ]
  },
  {
   "cell_type": "markdown",
   "metadata": {},
   "source": [
    "It seems that there is _some_ information the neural net is learning to extract, but not that much. "
   ]
  },
  {
   "cell_type": "markdown",
   "metadata": {},
   "source": [
    "# Section 2: dynamic memory\n",
    "It seems the neural net was overfitting to the values of the memory. In other words, it seems it wasn't using the memory at all. There are two ways we can improve this. \n",
    "\n",
    "1) we reset the memory every some steps\n",
    "\n",
    "2) we make the memory so large that the only option left for the neural net is to use it. We are \n",
    "\n",
    "Let's try the first one. But before that, let's understand what we are doing. We want to make a neural net learn how to use its memory. A first task could be to learn to access a memory given its position. It seems weird, though. How knowing the position of the memory differs from knowing the memory itself? If we consider our memories as a chain, then we can know the position of the related memories, but we can't access a random memory. \n",
    "\n",
    "So, we are going to show input-memory pairs to the net, and it has to learn the function that maps from input to position. It seems easy for the net to learn the function with input-position pairs. That is, the neural net learns the function from input to position with supervised information about the position. \n",
    "\n",
    "The role of neural nets in this study case is to learn the correct mapping from memory to output based on the input. (note that the standard neural net case is to learn the mapping form input to output.) I don't know why it didn't work with the binary value as the input. What we can do is to take randn vectors and sum the values, add say 4, and compute floor. Then, the value of the memory that we take is the result of that operation.\n",
    "\n"
   ]
  },
  {
   "cell_type": "code",
   "execution_count": 199,
   "metadata": {},
   "outputs": [
    {
     "name": "stdout",
     "output_type": "stream",
     "text": [
      "MSE: 1155220.71743\n",
      "Correlation [ 3022994.59747304]\n"
     ]
    },
    {
     "data": {
      "image/png": "[encoded data removed]",
      "text/plain": [
       "<matplotlib.figure.Figure at 0x7f7d26bc1b38>"
      ]
     },
     "metadata": {},
     "output_type": "display_data"
    }
   ],
   "source": [
    "plot_preds()"
   ]
  },
  {
   "cell_type": "code",
   "execution_count": 202,
   "metadata": {},
   "outputs": [
    {
     "name": "stdout",
     "output_type": "stream",
     "text": [
      "MSE: 751544.98852\n",
      "Correlation [ 2870736.41892025]\n"
     ]
    },
    {
     "data": {
      "image/png": "[encoded data removed]",
      "text/plain": [
       "<matplotlib.figure.Figure at 0x7f7d2dad6978>"
      ]
     },
     "metadata": {},
     "output_type": "display_data"
    }
   ],
   "source": [
    "ms = np.random.randint(0, 1000, size=(16, 1))\n",
    "plot_preds()"
   ]
  },
  {
   "cell_type": "code",
   "execution_count": null,
   "metadata": {},
   "outputs": [
    {
     "name": "stdout",
     "output_type": "stream",
     "text": [
      "0 [0.0, None]\n",
      "[[ 1.  0.]\n",
      " [ 0.  1.]]\n",
      "1000 [0.0, None]\n",
      "[[ 1.  0.]\n",
      " [ 0.  1.]]\n",
      "2000 [0.0, None]\n",
      "[[ 1.  0.]\n",
      " [ 0.  1.]]\n",
      "3000 [0.0, None]\n",
      "[[ 1.  0.]\n",
      " [ 0.  1.]]\n",
      "4000 [0.0, None]\n",
      "[[ 1.  0.]\n",
      " [ 0.  1.]]\n",
      "5000 [0.0, None]\n",
      "[[ 1.  0.]\n",
      " [ 0.  1.]]\n",
      "6000 [0.0, None]\n",
      "[[ 1.  0.]\n",
      " [ 0.  1.]]\n",
      "7000 [0.0, None]\n",
      "[[ 1.  0.]\n",
      " [ 0.  1.]]\n"
     ]
    }
   ],
   "source": [
    "memory_length = 2\n",
    "input_length = 2\n",
    "train_size = 500\n",
    "learning_rate = 1e-3\n",
    "\n",
    "ms = np.random.randint(0, 1000, size=(memory_length, 1)) \n",
    "xs = np.random.randint(0, input_length, size=(train_size, 1))\n",
    "ys = [ms[xi] for xi in xs]\n",
    "xs = np.eye(input_length)[xs][:, 0, :]\n",
    "\n",
    "tf.reset_default_graph()\n",
    "x = tf.placeholder(tf.float32, [batch_size, input_length])\n",
    "y = tf.placeholder(tf.float32, [batch_size, 1])\n",
    "m = tf.placeholder(tf.float32, [memory_length, 1])\n",
    "#w = tf.Variable(tf.random_normal((input_length, memory_length), stddev=.1))\n",
    "w = tf.Variable(tf.eye(2))\n",
    "\n",
    "b = tf.Variable(tf.zeros((memory_length)))\n",
    "\n",
    "#a = tf.nn.softmax(tf.matmul(x, w) + b)\n",
    "a = tf.matmul(x, w)\n",
    "out = tf.tensordot(a, m, 1)\n",
    "\n",
    "loss = tf.losses.mean_squared_error(y, out)\n",
    "optimizer = tf.train.AdamOptimizer(learning_rate=learning_rate)\n",
    "minimize = optimizer.minimize(loss)\n",
    "\n",
    "tr_loss, n = {}, 0\n",
    "\n",
    "with tf.Session() as sess:\n",
    "    sess.run(tf.global_variables_initializer())\n",
    "    for i in range(100000):\n",
    "        x_batch = xs[n:n + batch_size]\n",
    "        y_batch = np.array(ys[n:n + batch_size]).reshape(-1, 1)    \n",
    "        n = (n + batch_size) % (train_size - batch_size)\n",
    "        (tr_loss[i], _) = sess.run([loss, minimize], feed_dict={x: x_batch, y: y_batch, m: ms})\n",
    "        if i % 1000 == 0:\n",
    "            #ms = np.random.randint(0, 1000, size=(memory_length, 1)) \n",
    "            print(i, tr_loss[i])\n",
    "            w_final, b_final = sess.run([w, b])\n",
    "            print (w_final)"
   ]
  },
  {
   "cell_type": "code",
   "execution_count": 237,
   "metadata": {},
   "outputs": [
    {
     "data": {
      "text/plain": [
       "array([ 0.27570458,  0.72429542])"
      ]
     },
     "execution_count": 237,
     "metadata": {},
     "output_type": "execute_result"
    }
   ],
   "source": [
    "softargmax(w_final.dot([0, 1]) + b_final)"
   ]
  }
 ],
 "metadata": {
  "kernelspec": {
   "display_name": "Python 3",
   "language": "python",
   "name": "python3"
  },
  "language_info": {
   "codemirror_mode": {
    "name": "ipython",
    "version": 3
   },
   "file_extension": ".py",
   "mimetype": "text/x-python",
   "name": "python",
   "nbconvert_exporter": "python",
   "pygments_lexer": "ipython3",
   "version": "3.6.5"
  }
 },
 "nbformat": 4,
 "nbformat_minor": 2
}
