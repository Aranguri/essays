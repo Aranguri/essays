{
 "cells": [
  {
   "cell_type": "markdown",
   "metadata": {},
   "source": [
    "Machine learning algorithms build a program to solve a problem (often a neural network) and another program for optimization (often a code written in python.) \n",
    "\n",
    "A Goedel machine derives theorems to prove that a rewriting of both programs will yield better utility.\n",
    "\n",
    "Learning to learn by gradient descent by gradient descent is a specific case of this, where the optimization program (code in python) has a little portion (the hyperparams) made by a neural network.\n",
    "\n",
    "So one approach to meta-learning is to take the p"
   ]
  }
 ],
 "metadata": {
  "kernelspec": {
   "display_name": "Python 3",
   "language": "python",
   "name": "python3"
  },
  "language_info": {
   "codemirror_mode": {
    "name": "ipython",
    "version": 3
   },
   "file_extension": ".py",
   "mimetype": "text/x-python",
   "name": "python",
   "nbconvert_exporter": "python",
   "pygments_lexer": "ipython3",
   "version": "3.6.7"
  }
 },
 "nbformat": 4,
 "nbformat_minor": 2
}
