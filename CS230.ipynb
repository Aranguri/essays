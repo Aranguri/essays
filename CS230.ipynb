{
 "cells": [
  {
   "cell_type": "markdown",
   "metadata": {},
   "source": [
    "ResNets: we create a direct connection between a layer and the previous layers that aren't immediately before. We need the layers to have the same size\n",
    "\n",
    "Inception network: we concatenate the result of using multiple filters of different size. We use a 1x1 conv layer to reduce the depth/num_filters of the volume.\n",
    "\n",
    "Why https://camo.githubusercontent.com/fe637fb1a53f628875f889897ecae393f9c9c3c1/68747470733a2f2f7773312e73696e61696d672e636e2f6c617267652f303036744e633739677931666c713335626f7778696a333035763032786d78322e6a7067 detects vertical edges?\n",
    "\n",
    "[pc, ...] the p_c means is there any object?\n",
    "\n",
    "IoU: intersection over union (it's used between two bounding boxes) It seems to be like intersection over (intersection - union = xor)\n",
    "\n",
    "{i don't know about the style cost}\n",
    "\n",
    "Non-max suppresion: \n",
    "* remove all the boxes that have probability less than certain threshold.\n",
    "* repeat until no remaining boxes\n",
    "    * take the box b with largest probability\n",
    "    * remove all the boxes that have a high IoU with b"
   ]
  }
 ],
 "metadata": {
  "kernelspec": {
   "display_name": "Python 3",
   "language": "python",
   "name": "python3"
  },
  "language_info": {
   "codemirror_mode": {
    "name": "ipython",
    "version": 3
   },
   "file_extension": ".py",
   "mimetype": "text/x-python",
   "name": "python",
   "nbconvert_exporter": "python",
   "pygments_lexer": "ipython3",
   "version": "3.6.7"
  }
 },
 "nbformat": 4,
 "nbformat_minor": 2
}
